{
 "cells": [
  {
   "cell_type": "code",
   "execution_count": 221,
   "metadata": {},
   "outputs": [],
   "source": [
    "import gc\n",
    "import math\n",
    "\n",
    "import numpy as np\n",
    "import pandas as pd\n",
    "import xgboost as xgb\n",
    "import lightgbm as lgb\n",
    "\n",
    "import matplotlib.pyplot as plt\n",
    "\n",
    "from sklearn.model_selection import StratifiedKFold\n",
    "from sklearn.model_selection import train_test_split\n",
    "from sklearn.preprocessing import StandardScaler\n",
    "from sklearn.ensemble import RandomForestClassifier\n",
    "from sklearn.ensemble import GradientBoostingClassifier\n",
    "from sklearn.linear_model import LogisticRegression\n",
    "\n",
    "from sklearn.decomposition import PCA\n",
    "\n",
    "from sklearn.metrics import classification_report"
   ]
  },
  {
   "cell_type": "code",
   "execution_count": 222,
   "metadata": {
    "collapsed": true
   },
   "outputs": [],
   "source": [
    "def gini(y, pred):\n",
    "    assert(len(y) == len(pred))\n",
    "    g = np.asarray(np.c_[y, pred, np.arange(len(y)) ], dtype=np.float)\n",
    "    g = g[np.lexsort((g[:,2], -1*g[:,1]))]\n",
    "    gs = g[:,0].cumsum().sum() / g[:,0].sum()\n",
    "    gs -= (len(y) + 1) / 2.\n",
    "    return gs / len(y)\n",
    "\n",
    "def gini_xgb(pred, y):\n",
    "    y = y.get_label()\n",
    "    return 'gini', gini(y, pred) / gini(y, y)\n",
    "\n",
    "def gini_lgb(preds, dtrain):\n",
    "    y = list(dtrain.get_label())\n",
    "    score = gini(y, preds) / gini(y, y)\n",
    "    return 'gini', score, True"
   ]
  },
  {
   "cell_type": "code",
   "execution_count": 223,
   "metadata": {
    "collapsed": true
   },
   "outputs": [],
   "source": [
    "df = pd.read_csv('C:/Users/pedro.castanha/Downloads/porto/train.csv')"
   ]
  },
  {
   "cell_type": "code",
   "execution_count": null,
   "metadata": {},
   "outputs": [],
   "source": [
    "features = ['ps_ind_01', 'ps_ind_05_cat', 'ps_ind_06_bin', 'ps_ind_07_bin', 'ps_ind_08_bin', 'ps_ind_15', 'ps_ind_16_bin',\n",
    "            'ps_ind_17_bin', 'ps_reg_01', 'ps_reg_02', 'ps_car_01_cat', 'ps_car_02_cat',\n",
    "            'ps_car_04_cat', 'ps_car_06_cat', 'ps_car_07_cat', 'ps_car_08_cat', 'ps_car_12', 'ps_car_13',\n",
    "            'ps_car_15', 'target']\n",
    "\n",
    "'''features = ['ps_ind_01', 'ps_ind_05_cat', 'ps_ind_06_bin', 'ps_ind_07_bin', 'ps_ind_08_bin', 'ps_ind_15', 'ps_ind_16_bin',\n",
    "            'ps_ind_17_bin', 'ps_reg_01', 'ps_reg_02', 'ps_car_01_cat', 'ps_car_02_cat',\n",
    "            'ps_car_04_cat', 'ps_car_06_cat', 'ps_car_08_cat', 'ps_car_12', 'ps_car_13',\n",
    "            'ps_car_15', 'target']'''"
   ]
  },
  {
   "cell_type": "code",
   "execution_count": 153,
   "metadata": {},
   "outputs": [],
   "source": [
    "for col in df.columns:\n",
    "    df[col] = df[col].apply(lambda x: np.nan if x == -1 else x)"
   ]
  },
  {
   "cell_type": "code",
   "execution_count": 155,
   "metadata": {
    "collapsed": true
   },
   "outputs": [],
   "source": [
    "categorical = []\n",
    "for col in df.columns:\n",
    "    if '_cat' in col:\n",
    "        categorical.append(col)"
   ]
  },
  {
   "cell_type": "code",
   "execution_count": 162,
   "metadata": {},
   "outputs": [],
   "source": [
    "X = df.drop(['ps_reg_03', 'ps_car_03_cat','ps_car_05_cat'], axis=1)"
   ]
  },
  {
   "cell_type": "code",
   "execution_count": 99,
   "metadata": {},
   "outputs": [],
   "source": [
    "dropped = X.dropna()"
   ]
  },
  {
   "cell_type": "code",
   "execution_count": 5,
   "metadata": {},
   "outputs": [],
   "source": [
    "res = []\n",
    "for col in df.columns:\n",
    "    if col not in features:\n",
    "         res.append(col)"
   ]
  },
  {
   "cell_type": "code",
   "execution_count": 28,
   "metadata": {
    "collapsed": true
   },
   "outputs": [],
   "source": [
    "X = df.drop(res, axis=1)"
   ]
  },
  {
   "cell_type": "code",
   "execution_count": 62,
   "metadata": {},
   "outputs": [
    {
     "name": "stdout",
     "output_type": "stream",
     "text": [
      "cat\n",
      "cat\n",
      "cat\n",
      "cat\n",
      "number\n"
     ]
    }
   ],
   "source": [
    "for col in X.columns:\n",
    "    X[col] = X[col].apply(lambda x: np.nan if x == -1 else x)\n",
    "    if X[col].isnull().any():\n",
    "        if 'cat' in col:\n",
    "            print('cat')\n",
    "            X[col].fillna(value=X[col].value_counts()[0], inplace=True)\n",
    "        elif 'bin' in col:\n",
    "            print('bin')\n",
    "            X[col].fillna(value=0, inplace=True)\n",
    "        else:\n",
    "            print('number')\n",
    "            X[col].fillna(value=X[col].mean(), inplace=True)"
   ]
  },
  {
   "cell_type": "code",
   "execution_count": null,
   "metadata": {},
   "outputs": [],
   "source": [
    "X.fillna(method='ffill', inplace=True)\n",
    "X.info()"
   ]
  },
  {
   "cell_type": "code",
   "execution_count": 65,
   "metadata": {},
   "outputs": [],
   "source": [
    "X_clean = X.copy()"
   ]
  },
  {
   "cell_type": "code",
   "execution_count": 10,
   "metadata": {},
   "outputs": [],
   "source": [
    "categorical = []\n",
    "for col in X_clean.columns:\n",
    "    if 'cat' in col:\n",
    "        categorical.append(col)"
   ]
  },
  {
   "cell_type": "code",
   "execution_count": 11,
   "metadata": {
    "scrolled": true
   },
   "outputs": [
    {
     "name": "stdout",
     "output_type": "stream",
     "text": [
      "0.0    533216\n",
      "6.0     20854\n",
      "4.0     18548\n",
      "1.0      8397\n",
      "3.0      8307\n",
      "2.0      4225\n",
      "5.0      1665\n",
      "Name: ps_ind_05_cat, dtype: int64\n",
      "11.0    207618\n",
      "7.0     179272\n",
      "6.0      62403\n",
      "10.0     50104\n",
      "4.0      26179\n",
      "9.0      20324\n",
      "5.0      18143\n",
      "8.0      15094\n",
      "3.0       6660\n",
      "0.0       5904\n",
      "2.0       2144\n",
      "1.0       1367\n",
      "Name: ps_car_01_cat, dtype: int64\n",
      "1.0    493992\n",
      "0.0    101220\n",
      "Name: ps_car_02_cat, dtype: int64\n",
      "0    496581\n",
      "1     32115\n",
      "2     23770\n",
      "8     20598\n",
      "9     19034\n",
      "6      1560\n",
      "3       640\n",
      "5       545\n",
      "4       230\n",
      "7       139\n",
      "Name: ps_car_04_cat, dtype: int64\n",
      "11    131527\n",
      "1     118386\n",
      "0     110420\n",
      "14     59253\n",
      "10     33466\n",
      "4      31136\n",
      "15     21732\n",
      "6      20951\n",
      "9      17617\n",
      "7      16158\n",
      "3      11997\n",
      "13      6246\n",
      "17      4935\n",
      "16      4582\n",
      "12      2386\n",
      "2       1607\n",
      "8       1412\n",
      "5       1401\n",
      "Name: ps_car_06_cat, dtype: int64\n",
      "1.0    564047\n",
      "0.0     31165\n",
      "Name: ps_car_07_cat, dtype: int64\n",
      "1    495264\n",
      "0     99948\n",
      "Name: ps_car_08_cat, dtype: int64\n"
     ]
    }
   ],
   "source": [
    "for val in categorical:\n",
    "    print(X_clean[val].value_counts())"
   ]
  },
  {
   "cell_type": "code",
   "execution_count": 359,
   "metadata": {},
   "outputs": [],
   "source": [
    "X_clean.loc[:, 'ps_car_04_cat'] = X_clean.loc[:, 'ps_car_04_cat'].apply(lambda x: 1 if x > 0 else x)\n",
    "X_clean.loc[:, 'ps_ind_05_cat'] = X_clean.loc[:, 'ps_ind_05_cat'].apply(lambda x: 1 if x > 0 else x)"
   ]
  },
  {
   "cell_type": "code",
   "execution_count": 258,
   "metadata": {},
   "outputs": [],
   "source": [
    "# Split into 2 models\n",
    "X_clean_cat = X_clean.drop([x for x in X_clean.columns if x not in categorical], axis=1)\n",
    "X_clean_cont = X_clean.drop([x for x in X_clean.columns if x in categorical], axis=1)\n",
    "\n",
    "X_clean_cont['target'] = X_clean.target\n",
    "X_clean_cat['target'] = X_clean.target\n",
    "\n",
    "X_clean_cont_one = X_clean_cont[X_clean_cont.target == 1]\n",
    "X_clean_cont_zero = X_clean_cont[X_clean_cont.target == 0]\n",
    "X_clean_cat_one = X_clean_cat[X_clean_cat.target == 1]\n",
    "X_clean_cat_zero = X_clean_cat[X_clean_cat.target == 0]"
   ]
  },
  {
   "cell_type": "code",
   "execution_count": 259,
   "metadata": {
    "collapsed": true
   },
   "outputs": [],
   "source": [
    "new_x_cont = pd.concat([X_clean_cont_zero.sample(n = math.floor(1.15 * X_clean_cont_one.shape[0]), \n",
    "                                                 random_state=10), X_clean_cont_one])\n",
    "new_x_cat = pd.concat([X_clean_cat_zero.sample(n = math.floor(1.15 * X_clean_cat_one.shape[0]), \n",
    "                                               random_state=10), X_clean_cat_one])\n",
    "\n",
    "y_cont = new_x_cont['target']\n",
    "y_cat = new_x_cat['target']\n",
    "X_cont = new_x_cont.drop(['target'], axis=1)\n",
    "X_cat = new_x_cat.drop(['target'], axis=1)\n",
    "\n",
    "# End split"
   ]
  },
  {
   "cell_type": "code",
   "execution_count": 12,
   "metadata": {},
   "outputs": [],
   "source": [
    "X_one = X_clean[X_clean.target == 1]\n",
    "X_zero = X_clean[X_clean.target == 0]"
   ]
  },
  {
   "cell_type": "code",
   "execution_count": null,
   "metadata": {},
   "outputs": [],
   "source": [
    "X_zero.reset_index(drop=True, inplace=True)\n",
    "X_zero.head()"
   ]
  },
  {
   "cell_type": "code",
   "execution_count": 50,
   "metadata": {
    "collapsed": true
   },
   "outputs": [],
   "source": [
    "'''start = 0\n",
    "end = X_one.shape[0]\n",
    "\n",
    "model = GradientBoostingClassifier(warm_start=True)\n",
    "model_rfc = RandomForestClassifier(warm_start=True, n_estimators=100)\n",
    "\n",
    "for i in range(math.floor(X_zero.shape[0] / X_one.shape[0])):\n",
    "    df = X_zero.iloc[start:end]\n",
    "    new_x = pd.concat([df, X_one])\n",
    "    y = new_x['target']\n",
    "    X_clean = new_x.drop(['target'], axis=1)\n",
    "    \n",
    "    #X_train, X_test, y_train, y_test = train_test_split(X_clean, y, test_size=0.3, random_state=10)\n",
    "    \n",
    "    #model_rfc.fit(X_train, y_train)\n",
    "    model_rfc.fit(X_clean, y)\n",
    "    #y_pred = model_rfc.predict(X_test)\n",
    "    \n",
    "    #print(classification_report(y_test, y_pred))\n",
    "    \n",
    "    start = end\n",
    "    end += X_one.shape[0]\n",
    "    model_rfc.n_estimators += 10'''"
   ]
  },
  {
   "cell_type": "code",
   "execution_count": 78,
   "metadata": {
    "collapsed": true
   },
   "outputs": [],
   "source": [
    "new_x = pd.concat([X_zero.sample(n = math.floor(1.15 * X_one.shape[0]), random_state=10), X_one])\n",
    "\n",
    "y = new_x['target']\n",
    "X_clean = new_x.drop(['target'], axis=1)"
   ]
  },
  {
   "cell_type": "code",
   "execution_count": 66,
   "metadata": {
    "collapsed": true
   },
   "outputs": [],
   "source": [
    "# Using all samples without balancing the dataframe\n",
    "\n",
    "y = X_clean['target']\n",
    "X_clean = X_clean.drop(['target'], axis=1)"
   ]
  },
  {
   "cell_type": "code",
   "execution_count": 87,
   "metadata": {},
   "outputs": [],
   "source": [
    "transpose = pd.get_dummies(X_clean, columns=[\n",
    "'ps_car_01_cat',\n",
    "'ps_car_02_cat',\n",
    "'ps_car_04_cat',\n",
    "'ps_car_06_cat',\n",
    "'ps_car_07_cat',\n",
    "'ps_car_08_cat',\n",
    "'ps_ind_05_cat',])"
   ]
  },
  {
   "cell_type": "code",
   "execution_count": 111,
   "metadata": {},
   "outputs": [],
   "source": [
    "pca = PCA(n_components=40)\n",
    "pca.fit(transpose)\n",
    "X_pca = pca.transform(transpose)"
   ]
  },
  {
   "cell_type": "code",
   "execution_count": 325,
   "metadata": {},
   "outputs": [],
   "source": [
    "X_train, X_test, y_train, y_test = train_test_split(X_clean, y, test_size=0.30, random_state=10)\n",
    "#X_train, X_test, y_train, y_test = train_test_split(X_pca, y, test_size=0.20, random_state=10)\n",
    "\n",
    "# 2 Models training\n",
    "#X_train_cont, X_test_cont, y_train_cont, y_test_cont = train_test_split(X_cont, y_cont, test_size=0.3, random_state=10)\n",
    "#X_train_cat, X_test_cat, y_train_cat, y_test_cat = train_test_split(X_cat, y_cat, test_size=0.3, random_state=10)"
   ]
  },
  {
   "cell_type": "code",
   "execution_count": 196,
   "metadata": {
    "collapsed": true
   },
   "outputs": [],
   "source": [
    "model = GradientBoostingClassifier(n_estimators=400)\n",
    "model_rfc = RandomForestClassifier(n_estimators=250, class_weight='balanced')\n",
    "model_xgb = xgb.XGBClassifier(n_estimators=200)\n",
    "\n",
    "# 2 Models\n",
    "xgb_cont = xgb.XGBClassifier(n_estimators=200)\n",
    "xgb_cat = xgb.XGBClassifier(n_estimators=200)"
   ]
  },
  {
   "cell_type": "code",
   "execution_count": 362,
   "metadata": {
    "collapsed": true
   },
   "outputs": [],
   "source": [
    "# Testing model class balance\n",
    "# model_xgb = xgb.XGBClassifier(n_estimators=800, scale_pos_weight=26.4367106112289, base_score=0.5)\n",
    "model_xgb = xgb.XGBClassifier(n_estimators=200, scale_pos_weight=1.15)"
   ]
  },
  {
   "cell_type": "code",
   "execution_count": 15,
   "metadata": {},
   "outputs": [
    {
     "data": {
      "text/plain": [
       "XGBClassifier(base_score=0.5, colsample_bylevel=1, colsample_bytree=1,\n",
       "       gamma=0, learning_rate=0.1, max_delta_step=0, max_depth=3,\n",
       "       min_child_weight=1, missing=None, n_estimators=200, nthread=-1,\n",
       "       objective='binary:logistic', reg_alpha=0, reg_lambda=1,\n",
       "       scale_pos_weight=1, seed=0, silent=True, subsample=1)"
      ]
     },
     "execution_count": 15,
     "metadata": {},
     "output_type": "execute_result"
    }
   ],
   "source": [
    "#model.fit(X_train, y_train)\n",
    "#model.fit(X_clean, y)\n",
    "#model_xgb.fit(X_train, y_train)\n",
    "model_xgb.fit(X_clean, y)\n",
    "#model_xgb.fit(X_pca, y)\n",
    "#model_rfc.fit(X_train, y_train)"
   ]
  },
  {
   "cell_type": "code",
   "execution_count": 286,
   "metadata": {},
   "outputs": [
    {
     "data": {
      "text/plain": [
       "XGBClassifier(base_score=0.5, colsample_bylevel=1, colsample_bytree=1,\n",
       "       gamma=0, learning_rate=0.1, max_delta_step=0, max_depth=3,\n",
       "       min_child_weight=1, missing=None, n_estimators=200, nthread=-1,\n",
       "       objective='binary:logistic', reg_alpha=0, reg_lambda=1,\n",
       "       scale_pos_weight=1, seed=0, silent=True, subsample=1)"
      ]
     },
     "execution_count": 286,
     "metadata": {},
     "output_type": "execute_result"
    }
   ],
   "source": [
    "xgb_cat.fit(X_train_cat, y_train_cat)"
   ]
  },
  {
   "cell_type": "code",
   "execution_count": 287,
   "metadata": {},
   "outputs": [
    {
     "data": {
      "text/plain": [
       "XGBClassifier(base_score=0.5, colsample_bylevel=1, colsample_bytree=1,\n",
       "       gamma=0, learning_rate=0.1, max_delta_step=0, max_depth=3,\n",
       "       min_child_weight=1, missing=None, n_estimators=200, nthread=-1,\n",
       "       objective='binary:logistic', reg_alpha=0, reg_lambda=1,\n",
       "       scale_pos_weight=1, seed=0, silent=True, subsample=1)"
      ]
     },
     "execution_count": 287,
     "metadata": {},
     "output_type": "execute_result"
    }
   ],
   "source": [
    "xgb_cont.fit(X_train_cont, y_train_cont)"
   ]
  },
  {
   "cell_type": "code",
   "execution_count": 328,
   "metadata": {
    "collapsed": true
   },
   "outputs": [],
   "source": [
    "#y_pred = model.predict(X_test)\n",
    "y_pred_xgb = model_xgb.predict(X_test)\n",
    "#y_pred_rfc = model_rfc.predict(X_test)"
   ]
  },
  {
   "cell_type": "code",
   "execution_count": 329,
   "metadata": {},
   "outputs": [
    {
     "name": "stdout",
     "output_type": "stream",
     "text": [
      "             precision    recall  f1-score   support\n",
      "\n",
      "          0       0.97      0.64      0.77    171887\n",
      "          1       0.05      0.53      0.10      6677\n",
      "\n",
      "avg / total       0.94      0.63      0.75    178564\n",
      "\n"
     ]
    }
   ],
   "source": [
    "print(classification_report(y_test, y_pred_xgb))"
   ]
  },
  {
   "cell_type": "code",
   "execution_count": 116,
   "metadata": {},
   "outputs": [
    {
     "name": "stdout",
     "output_type": "stream",
     "text": [
      "             precision    recall  f1-score   support\n",
      "\n",
      "          0       0.59      0.73      0.65      4940\n",
      "          1       0.58      0.43      0.50      4389\n",
      "\n",
      "avg / total       0.59      0.59      0.58      9329\n",
      "\n"
     ]
    }
   ],
   "source": [
    "print(classification_report(y_test, y_pred_xgb))"
   ]
  },
  {
   "cell_type": "code",
   "execution_count": 288,
   "metadata": {},
   "outputs": [],
   "source": [
    "y_pred_cat = xgb_cat.predict(X_test_cat)\n",
    "y_pred_cont = xgb_cont.predict(X_test_cont)"
   ]
  },
  {
   "cell_type": "code",
   "execution_count": 289,
   "metadata": {},
   "outputs": [
    {
     "name": "stdout",
     "output_type": "stream",
     "text": [
      "Continuos model\n",
      "             precision    recall  f1-score   support\n",
      "\n",
      "          0       0.59      0.71      0.64      7440\n",
      "          1       0.57      0.43      0.49      6553\n",
      "\n",
      "avg / total       0.58      0.58      0.57     13993\n",
      "\n",
      "Categorical model\n",
      "             precision    recall  f1-score   support\n",
      "\n",
      "          0       0.58      0.74      0.65      7440\n",
      "          1       0.56      0.39      0.46      6553\n",
      "\n",
      "avg / total       0.57      0.57      0.56     13993\n",
      "\n"
     ]
    }
   ],
   "source": [
    "# 2 Models f1\n",
    "print('Continuos model')\n",
    "print(classification_report(y_test_cont, y_pred_cont))\n",
    "print('Categorical model')\n",
    "print(classification_report(y_test_cat, y_pred_cat))"
   ]
  },
  {
   "cell_type": "code",
   "execution_count": 191,
   "metadata": {},
   "outputs": [
    {
     "name": "stdout",
     "output_type": "stream",
     "text": [
      "Continuos model\n",
      "             precision    recall  f1-score   support\n",
      "\n",
      "          0       0.59      0.71      0.65      6183\n",
      "          1       0.58      0.45      0.51      5478\n",
      "\n",
      "avg / total       0.59      0.59      0.58     11661\n",
      "\n",
      "Categorical model\n",
      "             precision    recall  f1-score   support\n",
      "\n",
      "          0       0.58      0.74      0.65      6183\n",
      "          1       0.57      0.39      0.46      5478\n",
      "\n",
      "avg / total       0.58      0.58      0.56     11661\n",
      "\n"
     ]
    }
   ],
   "source": [
    "# 2 Models f1\n",
    "print('Continuos model')\n",
    "print(classification_report(y_test_cont, y_pred_cont))\n",
    "print('Categorical model')\n",
    "print(classification_report(y_test_cat, y_pred_cat))"
   ]
  },
  {
   "cell_type": "code",
   "execution_count": 194,
   "metadata": {},
   "outputs": [],
   "source": [
    "X_clean_cat.loc[X_test_cat.index, 'pred'] = y_pred_cat"
   ]
  },
  {
   "cell_type": "code",
   "execution_count": 201,
   "metadata": {},
   "outputs": [],
   "source": [
    "miss = X_clean_cat[(~X_clean_cat.pred.isnull()) & (X_clean_cat.target != X_clean_cat.pred)]"
   ]
  },
  {
   "cell_type": "code",
   "execution_count": 211,
   "metadata": {},
   "outputs": [],
   "source": [
    "g = miss.groupby(['ps_ind_05_cat','ps_car_01_cat','ps_car_02_cat','ps_car_04_cat',\n",
    "                  'ps_car_06_cat','ps_car_07_cat','ps_car_08_cat']).count()"
   ]
  },
  {
   "cell_type": "markdown",
   "metadata": {},
   "source": [
    "# Test"
   ]
  },
  {
   "cell_type": "code",
   "execution_count": 224,
   "metadata": {
    "collapsed": true
   },
   "outputs": [],
   "source": [
    "df_test = pd.read_csv('C:/Users/pedro.castanha/Downloads/porto/test.csv')"
   ]
  },
  {
   "cell_type": "code",
   "execution_count": 164,
   "metadata": {
    "collapsed": true
   },
   "outputs": [],
   "source": [
    "X_test = df_test.copy()"
   ]
  },
  {
   "cell_type": "code",
   "execution_count": 117,
   "metadata": {},
   "outputs": [
    {
     "name": "stdout",
     "output_type": "stream",
     "text": [
      "ps_ind_02_cat\n",
      "ps_ind_04_cat\n",
      "ps_ind_05_cat\n",
      "ps_car_01_cat\n",
      "ps_car_02_cat\n",
      "ps_car_03_cat\n",
      "ps_car_04_cat\n",
      "ps_car_05_cat\n",
      "ps_car_06_cat\n",
      "ps_car_07_cat\n",
      "ps_car_08_cat\n",
      "ps_car_09_cat\n",
      "ps_car_10_cat\n",
      "ps_car_11_cat\n"
     ]
    }
   ],
   "source": [
    "for col in X_test.columns:\n",
    "    if 'cat' in col:\n",
    "        X_test[col] = X_test[col].astype('int32')\n",
    "        print(col)"
   ]
  },
  {
   "cell_type": "code",
   "execution_count": 158,
   "metadata": {
    "collapsed": true
   },
   "outputs": [],
   "source": [
    "for col in X_test.columns:\n",
    "    X_test[col] = X_test[col].apply(lambda x: np.nan if x == -1 else x)"
   ]
  },
  {
   "cell_type": "code",
   "execution_count": 165,
   "metadata": {
    "collapsed": true
   },
   "outputs": [],
   "source": [
    "X_test = X_test.drop(['ps_reg_03', 'ps_car_03_cat','ps_car_05_cat'], axis=1)"
   ]
  },
  {
   "cell_type": "code",
   "execution_count": 138,
   "metadata": {},
   "outputs": [],
   "source": [
    "for col in X_test.columns:\n",
    "    if X_test[col].isnull().any():\n",
    "        if 'cat' in col:\n",
    "            print(col)\n",
    "            X_test[col].fillna(value=X_test[col].value_counts().index[0], inplace=True)\n",
    "        elif 'bin' in col:\n",
    "            print(col)\n",
    "            X_test[col].fillna(value=0, inplace=True)\n",
    "        else:\n",
    "            print(col)\n",
    "            X_test[col].fillna(value=X_test[col].mean(), inplace=True)"
   ]
  },
  {
   "cell_type": "code",
   "execution_count": 72,
   "metadata": {},
   "outputs": [],
   "source": [
    "result = df_test.drop(res, axis=1)"
   ]
  },
  {
   "cell_type": "code",
   "execution_count": 120,
   "metadata": {
    "collapsed": true
   },
   "outputs": [],
   "source": [
    "transpose = pd.get_dummies(df_test, columns=[\n",
    "'ps_car_01_cat',\n",
    "'ps_car_02_cat',\n",
    "'ps_car_04_cat',\n",
    "'ps_car_06_cat',\n",
    "'ps_car_07_cat',\n",
    "'ps_car_08_cat',\n",
    "'ps_ind_05_cat',])"
   ]
  },
  {
   "cell_type": "code",
   "execution_count": 122,
   "metadata": {
    "collapsed": true
   },
   "outputs": [],
   "source": [
    "pca_test = PCA(n_components=40)\n",
    "X_test_pca = pca_test.fit_transform(transpose)"
   ]
  },
  {
   "cell_type": "code",
   "execution_count": 22,
   "metadata": {},
   "outputs": [],
   "source": [
    "#y_pred = model.predict_proba(df_test)\n",
    "y_pred = model_xgb.predict_proba(result)\n",
    "#y_pred = model_xgb.predict_proba(X_test_pca)"
   ]
  },
  {
   "cell_type": "code",
   "execution_count": null,
   "metadata": {},
   "outputs": [],
   "source": [
    "response = pd.DataFrame()\n",
    "response['id'] = df_test['id']\n",
    "# response['target'] = pd.DataFrame(y_pred)[1]\n",
    "response['target'] = pd.DataFrame(y_pred)\n",
    "response"
   ]
  },
  {
   "cell_type": "code",
   "execution_count": 84,
   "metadata": {
    "collapsed": true
   },
   "outputs": [],
   "source": [
    "response.to_csv('C:/Users/pedro.castanha/Downloads/porto/result_xgb_dmatrix.csv', index=False)"
   ]
  },
  {
   "cell_type": "markdown",
   "metadata": {},
   "source": [
    "# Experiments"
   ]
  },
  {
   "cell_type": "code",
   "execution_count": 80,
   "metadata": {},
   "outputs": [],
   "source": [
    "dtrain = xgb.DMatrix(X_clean, label=y, missing=np.nan)"
   ]
  },
  {
   "cell_type": "code",
   "execution_count": 69,
   "metadata": {
    "collapsed": true
   },
   "outputs": [],
   "source": [
    "param = {}\n",
    "# use logistic regression loss, use raw prediction before logistic transformation\n",
    "# since we only need the rank\n",
    "param['base_score'] = 0.5\n",
    "param['colsample_bylevel'] = 1\n",
    "param['colsample_bytree'] = 1\n",
    "param['gamma'] = 0\n",
    "param['min_child_weight'] = 1\n",
    "param['n_estimators'] = 400,\n",
    "param['reg_alpha'] = 0\n",
    "param['reg_lambda'] = 1\n",
    "param['subsample'] = 1\n",
    "param['objective'] = 'binary:logistic'\n",
    "\n",
    "# scale weight of positive examples\n",
    "param['scale_pos_weight'] = 1\n",
    "param['eta'] = 0.1\n",
    "param['max_depth'] = 6\n",
    "param['eval_metric'] = 'auc'\n",
    "param['silent'] = 1\n",
    "\n",
    "# you can directly throw param in, though we want to watch multiple metrics here\n",
    "plst = list(param.items())+[('eval_metric', 'ams@0.15')]"
   ]
  },
  {
   "cell_type": "code",
   "execution_count": 81,
   "metadata": {},
   "outputs": [],
   "source": [
    "bst = xgb.train(plst, dtrain)"
   ]
  },
  {
   "cell_type": "code",
   "execution_count": 82,
   "metadata": {},
   "outputs": [],
   "source": [
    "y_pred = bst.predict(xgb.DMatrix(result, missing=-1))"
   ]
  },
  {
   "cell_type": "markdown",
   "metadata": {},
   "source": [
    "## XGB Imp"
   ]
  },
  {
   "cell_type": "code",
   "execution_count": 145,
   "metadata": {},
   "outputs": [
    {
     "name": "stdout",
     "output_type": "stream",
     "text": [
      "Running Lasso..\n",
      "Lasso Completed!\n",
      "Total features selected are: 52\n",
      "Features Selected: ['ps_ind_01' 'ps_ind_02_cat' 'ps_ind_03' 'ps_ind_04_cat' 'ps_ind_05_cat'\n",
      " 'ps_ind_06_bin' 'ps_ind_07_bin' 'ps_ind_08_bin' 'ps_ind_10_bin'\n",
      " 'ps_ind_11_bin' 'ps_ind_13_bin' 'ps_ind_14' 'ps_ind_15' 'ps_ind_16_bin'\n",
      " 'ps_ind_17_bin' 'ps_ind_18_bin' 'ps_reg_01' 'ps_reg_02' 'ps_reg_03'\n",
      " 'ps_car_01_cat' 'ps_car_02_cat' 'ps_car_03_cat' 'ps_car_04_cat'\n",
      " 'ps_car_05_cat' 'ps_car_06_cat' 'ps_car_07_cat' 'ps_car_08_cat'\n",
      " 'ps_car_09_cat' 'ps_car_10_cat' 'ps_car_11_cat' 'ps_car_11' 'ps_car_12'\n",
      " 'ps_car_13' 'ps_car_14' 'ps_car_15' 'ps_calc_01' 'ps_calc_02' 'ps_calc_03'\n",
      " 'ps_calc_05' 'ps_calc_08' 'ps_calc_09' 'ps_calc_10' 'ps_calc_11'\n",
      " 'ps_calc_12' 'ps_calc_13' 'ps_calc_14' 'ps_calc_15_bin' 'ps_calc_16_bin'\n",
      " 'ps_calc_17_bin' 'ps_calc_18_bin' 'ps_calc_19_bin' 'ps_calc_20_bin']\n"
     ]
    }
   ],
   "source": [
    "train = df.copy()\n",
    "test = df_test.copy()\n",
    "col = [c for c in train.columns if c not in ['id','target']]\n",
    "    \n",
    "# Feature Selection by Lasso\n",
    "print('Running Lasso..')\n",
    "scaler = StandardScaler()\n",
    "std_data = scaler.fit_transform(train[col].values)\n",
    "clf = LogisticRegression(penalty='l1', C=0.1, random_state=42, solver='liblinear', n_jobs=1)\n",
    "clf.fit(std_data, train['target'].values.reshape((-1,)))\n",
    "imp_feats_ind = np.nonzero(clf.coef_[0])[0]\n",
    "final_feats = np.array(col)[imp_feats_ind]\n",
    "print('Lasso Completed!')\n",
    "print('Total features selected are:', len(final_feats))\n",
    "print('Features Selected:', final_feats)"
   ]
  },
  {
   "cell_type": "code",
   "execution_count": 89,
   "metadata": {},
   "outputs": [
    {
     "name": "stdout",
     "output_type": "stream",
     "text": [
      "[0]\ttrain-gini:0.196449\tvalid-gini:0.185446\n",
      "Multiple eval metrics have been passed: 'valid-gini' will be used for early stopping.\n",
      "\n",
      "Will train until valid-gini hasn't improved in 100 rounds.\n",
      "[10]\ttrain-gini:0.233551\tvalid-gini:0.226048\n",
      "[20]\ttrain-gini:0.238338\tvalid-gini:0.229735\n",
      "[30]\ttrain-gini:0.239304\tvalid-gini:0.230396\n",
      "[40]\ttrain-gini:0.241244\tvalid-gini:0.232346\n",
      "[50]\ttrain-gini:0.242293\tvalid-gini:0.232407\n",
      "[60]\ttrain-gini:0.243121\tvalid-gini:0.232558\n",
      "[70]\ttrain-gini:0.24504\tvalid-gini:0.233833\n",
      "[80]\ttrain-gini:0.246582\tvalid-gini:0.235691\n",
      "[90]\ttrain-gini:0.247918\tvalid-gini:0.23659\n",
      "[100]\ttrain-gini:0.250004\tvalid-gini:0.237688\n",
      "[110]\ttrain-gini:0.252667\tvalid-gini:0.239756\n",
      "[120]\ttrain-gini:0.254918\tvalid-gini:0.24082\n",
      "[130]\ttrain-gini:0.257898\tvalid-gini:0.242319\n",
      "[140]\ttrain-gini:0.261359\tvalid-gini:0.245083\n",
      "[150]\ttrain-gini:0.264161\tvalid-gini:0.246618\n",
      "[160]\ttrain-gini:0.267826\tvalid-gini:0.249279\n",
      "[170]\ttrain-gini:0.27102\tvalid-gini:0.251058\n",
      "[180]\ttrain-gini:0.273552\tvalid-gini:0.252272\n",
      "[190]\ttrain-gini:0.276267\tvalid-gini:0.253812\n",
      "[200]\ttrain-gini:0.278823\tvalid-gini:0.25497\n",
      "[210]\ttrain-gini:0.281243\tvalid-gini:0.256873\n",
      "[220]\ttrain-gini:0.283375\tvalid-gini:0.257876\n",
      "[230]\ttrain-gini:0.285006\tvalid-gini:0.258818\n",
      "[240]\ttrain-gini:0.287472\tvalid-gini:0.260438\n",
      "[250]\ttrain-gini:0.289246\tvalid-gini:0.261436\n",
      "[260]\ttrain-gini:0.291205\tvalid-gini:0.262438\n",
      "[270]\ttrain-gini:0.293011\tvalid-gini:0.263245\n",
      "[280]\ttrain-gini:0.295229\tvalid-gini:0.264427\n",
      "[290]\ttrain-gini:0.297004\tvalid-gini:0.265385\n",
      "[300]\ttrain-gini:0.298841\tvalid-gini:0.266352\n",
      "[310]\ttrain-gini:0.300601\tvalid-gini:0.267139\n",
      "[320]\ttrain-gini:0.302298\tvalid-gini:0.267747\n",
      "[330]\ttrain-gini:0.303609\tvalid-gini:0.268443\n",
      "[340]\ttrain-gini:0.305232\tvalid-gini:0.26917\n",
      "[350]\ttrain-gini:0.306882\tvalid-gini:0.270221\n",
      "[360]\ttrain-gini:0.308482\tvalid-gini:0.270912\n",
      "[370]\ttrain-gini:0.309938\tvalid-gini:0.27135\n",
      "[380]\ttrain-gini:0.311516\tvalid-gini:0.272119\n",
      "[390]\ttrain-gini:0.312864\tvalid-gini:0.272306\n",
      "[400]\ttrain-gini:0.314124\tvalid-gini:0.272927\n",
      "[410]\ttrain-gini:0.315364\tvalid-gini:0.273439\n",
      "[420]\ttrain-gini:0.316517\tvalid-gini:0.273782\n",
      "[430]\ttrain-gini:0.317759\tvalid-gini:0.274064\n",
      "[440]\ttrain-gini:0.318855\tvalid-gini:0.274368\n",
      "[450]\ttrain-gini:0.320039\tvalid-gini:0.274689\n",
      "[460]\ttrain-gini:0.321078\tvalid-gini:0.274792\n",
      "[470]\ttrain-gini:0.322222\tvalid-gini:0.274861\n",
      "[480]\ttrain-gini:0.32335\tvalid-gini:0.27511\n",
      "[490]\ttrain-gini:0.324237\tvalid-gini:0.2753\n",
      "[500]\ttrain-gini:0.325395\tvalid-gini:0.275502\n",
      "[510]\ttrain-gini:0.326565\tvalid-gini:0.275695\n",
      "[520]\ttrain-gini:0.327632\tvalid-gini:0.276034\n",
      "[530]\ttrain-gini:0.328595\tvalid-gini:0.276167\n",
      "[540]\ttrain-gini:0.32961\tvalid-gini:0.276265\n",
      "[550]\ttrain-gini:0.330695\tvalid-gini:0.276393\n",
      "[560]\ttrain-gini:0.331484\tvalid-gini:0.276508\n",
      "[570]\ttrain-gini:0.332497\tvalid-gini:0.276623\n",
      "[580]\ttrain-gini:0.333484\tvalid-gini:0.2767\n",
      "[590]\ttrain-gini:0.334243\tvalid-gini:0.276631\n",
      "[600]\ttrain-gini:0.335183\tvalid-gini:0.276687\n",
      "[610]\ttrain-gini:0.336197\tvalid-gini:0.276911\n",
      "[620]\ttrain-gini:0.33704\tvalid-gini:0.27712\n",
      "[630]\ttrain-gini:0.337947\tvalid-gini:0.277089\n",
      "[640]\ttrain-gini:0.338819\tvalid-gini:0.277184\n",
      "[650]\ttrain-gini:0.339954\tvalid-gini:0.277212\n",
      "[660]\ttrain-gini:0.340807\tvalid-gini:0.277152\n",
      "[670]\ttrain-gini:0.341781\tvalid-gini:0.27714\n",
      "[680]\ttrain-gini:0.342726\tvalid-gini:0.277249\n",
      "[690]\ttrain-gini:0.343508\tvalid-gini:0.277353\n",
      "[700]\ttrain-gini:0.344481\tvalid-gini:0.277368\n",
      "[710]\ttrain-gini:0.345372\tvalid-gini:0.277262\n",
      "[720]\ttrain-gini:0.346289\tvalid-gini:0.277465\n",
      "[730]\ttrain-gini:0.347119\tvalid-gini:0.277586\n",
      "[740]\ttrain-gini:0.347859\tvalid-gini:0.27757\n",
      "[750]\ttrain-gini:0.348647\tvalid-gini:0.277508\n",
      "[760]\ttrain-gini:0.349372\tvalid-gini:0.277539\n",
      "[770]\ttrain-gini:0.350123\tvalid-gini:0.277435\n",
      "[780]\ttrain-gini:0.350998\tvalid-gini:0.277412\n",
      "[790]\ttrain-gini:0.351942\tvalid-gini:0.277383\n",
      "[800]\ttrain-gini:0.352818\tvalid-gini:0.277362\n",
      "[810]\ttrain-gini:0.353582\tvalid-gini:0.277375\n",
      "[820]\ttrain-gini:0.354496\tvalid-gini:0.277328\n",
      "[830]\ttrain-gini:0.355515\tvalid-gini:0.27747\n",
      "[840]\ttrain-gini:0.356263\tvalid-gini:0.277314\n",
      "[850]\ttrain-gini:0.356999\tvalid-gini:0.277265\n",
      "Stopping. Best iteration:\n",
      "[759]\ttrain-gini:0.349262\tvalid-gini:0.277611\n",
      "\n"
     ]
    }
   ],
   "source": [
    "# XGBoost\n",
    "params = {'eta': 0.02, 'max_depth': 4, 'subsample': 0.9, 'colsample_bytree': 0.9, 'objective': 'binary:logistic', 'eval_metric': 'auc', 'seed': 99, 'silent': True}\n",
    "x1, x2, y1, y2 = train_test_split(train[final_feats], train['target'], test_size=0.25, random_state=99)\n",
    "watchlist = [(xgb.DMatrix(x1, y1), 'train'), (xgb.DMatrix(x2, y2), 'valid')]\n",
    "model = xgb.train(params, xgb.DMatrix(x1, y1), 5000,  watchlist, feval=gini_xgb, maximize=True, verbose_eval=10, early_stopping_rounds=100)\n",
    "test['target'] = model.predict(xgb.DMatrix(test[final_feats]), ntree_limit=model.best_ntree_limit+50)\n",
    "\n",
    "test[['id','target']].to_csv('submission.csv', index=False, float_format='%.5f')"
   ]
  },
  {
   "cell_type": "markdown",
   "metadata": {},
   "source": [
    "### Testing with holes filled"
   ]
  },
  {
   "cell_type": "code",
   "execution_count": 170,
   "metadata": {},
   "outputs": [
    {
     "data": {
      "text/plain": [
       "(1488028, 59)"
      ]
     },
     "execution_count": 170,
     "metadata": {},
     "output_type": "execute_result"
    }
   ],
   "source": [
    "complete = pd.concat([df, df_test])\n",
    "complete.shape"
   ]
  },
  {
   "cell_type": "code",
   "execution_count": 174,
   "metadata": {
    "collapsed": true
   },
   "outputs": [],
   "source": [
    "categories = [c for c in complete.columns if '_cat' in c]"
   ]
  },
  {
   "cell_type": "code",
   "execution_count": 176,
   "metadata": {
    "collapsed": true
   },
   "outputs": [],
   "source": [
    "indicators = pd.get_dummies(complete, columns=categories)"
   ]
  },
  {
   "cell_type": "code",
   "execution_count": 181,
   "metadata": {
    "collapsed": true
   },
   "outputs": [],
   "source": [
    "X_indicator = indicators.iloc[df.index]\n",
    "test_indicator = indicators.iloc[df_test.index]"
   ]
  },
  {
   "cell_type": "code",
   "execution_count": 182,
   "metadata": {},
   "outputs": [
    {
     "name": "stdout",
     "output_type": "stream",
     "text": [
      "(595212, 229)\n",
      "(892816, 229)\n"
     ]
    }
   ],
   "source": [
    "print(X_indicator.shape)\n",
    "print(test_indicator.shape)"
   ]
  },
  {
   "cell_type": "code",
   "execution_count": 197,
   "metadata": {
    "collapsed": true
   },
   "outputs": [],
   "source": [
    "xgb_meta = xgb.XGBClassifier(max_depth=4, learning_rate=0.2, subsample=0.9, colsample_bytree=0.9, n_estimators=250, seed=99)"
   ]
  },
  {
   "cell_type": "code",
   "execution_count": 212,
   "metadata": {},
   "outputs": [
    {
     "data": {
      "text/plain": [
       "(46642, 237)"
      ]
     },
     "execution_count": 212,
     "metadata": {},
     "output_type": "execute_result"
    }
   ],
   "source": [
    "df_one = X_indicator[X_indicator.target == 1]\n",
    "df_zero = X_indicator[X_indicator.target == 0]\n",
    "meta_x = pd.concat([df_zero.sample(n = math.floor(1.15 * df_one.shape[0]), random_state=10), X_one])\n",
    "meta_x.shape"
   ]
  },
  {
   "cell_type": "code",
   "execution_count": 214,
   "metadata": {},
   "outputs": [
    {
     "data": {
      "text/plain": [
       "XGBClassifier(base_score=0.5, colsample_bylevel=1, colsample_bytree=0.9,\n",
       "       gamma=0, learning_rate=0.2, max_delta_step=0, max_depth=4,\n",
       "       min_child_weight=1, missing=None, n_estimators=250, nthread=-1,\n",
       "       objective='binary:logistic', reg_alpha=0, reg_lambda=1,\n",
       "       scale_pos_weight=1, seed=99, silent=True, subsample=0.9)"
      ]
     },
     "execution_count": 214,
     "metadata": {},
     "output_type": "execute_result"
    }
   ],
   "source": [
    "xgb_meta.fit(meta_x[final_feats], meta_x['target'])"
   ]
  },
  {
   "cell_type": "code",
   "execution_count": 218,
   "metadata": {},
   "outputs": [
    {
     "data": {
      "text/plain": [
       "array([[  9.99957383e-01,   4.26362458e-05],\n",
       "       [  9.99957383e-01,   4.26362458e-05],\n",
       "       [  9.99957383e-01,   4.26362458e-05],\n",
       "       ..., \n",
       "       [  9.99957383e-01,   4.26362458e-05],\n",
       "       [  9.99957383e-01,   4.26362458e-05],\n",
       "       [  9.99957383e-01,   4.26362458e-05]], dtype=float32)"
      ]
     },
     "execution_count": 218,
     "metadata": {},
     "output_type": "execute_result"
    }
   ],
   "source": [
    "xgb_meta.predict_proba(indicators[final_feats])"
   ]
  },
  {
   "cell_type": "code",
   "execution_count": 199,
   "metadata": {
    "collapsed": true
   },
   "outputs": [],
   "source": [
    "indicators['meta'] = xgb_meta.predict_proba(indicators[final_feats])"
   ]
  },
  {
   "cell_type": "code",
   "execution_count": 183,
   "metadata": {},
   "outputs": [
    {
     "name": "stdout",
     "output_type": "stream",
     "text": [
      "Running Lasso..\n",
      "Lasso Completed!\n",
      "Total features selected are: 198\n",
      "Features Selected: ['ps_calc_01' 'ps_calc_02' 'ps_calc_03' 'ps_calc_05' 'ps_calc_08'\n",
      " 'ps_calc_09' 'ps_calc_10' 'ps_calc_11' 'ps_calc_12' 'ps_calc_13'\n",
      " 'ps_calc_14' 'ps_calc_15_bin' 'ps_calc_16_bin' 'ps_calc_17_bin'\n",
      " 'ps_calc_18_bin' 'ps_calc_19_bin' 'ps_calc_20_bin' 'ps_car_11' 'ps_car_12'\n",
      " 'ps_car_13' 'ps_car_15' 'ps_ind_01' 'ps_ind_03' 'ps_ind_06_bin'\n",
      " 'ps_ind_07_bin' 'ps_ind_08_bin' 'ps_ind_10_bin' 'ps_ind_11_bin'\n",
      " 'ps_ind_13_bin' 'ps_ind_14' 'ps_ind_15' 'ps_ind_16_bin' 'ps_ind_17_bin'\n",
      " 'ps_ind_18_bin' 'ps_reg_01' 'ps_reg_02' 'ps_reg_03' 'ps_car_01_cat_-1'\n",
      " 'ps_car_01_cat_0' 'ps_car_01_cat_1' 'ps_car_01_cat_2' 'ps_car_01_cat_3'\n",
      " 'ps_car_01_cat_4' 'ps_car_01_cat_5' 'ps_car_01_cat_7' 'ps_car_01_cat_8'\n",
      " 'ps_car_01_cat_9' 'ps_car_01_cat_10' 'ps_car_01_cat_11' 'ps_car_02_cat_-1'\n",
      " 'ps_car_02_cat_0' 'ps_car_03_cat_-1' 'ps_car_03_cat_1' 'ps_car_04_cat_0'\n",
      " 'ps_car_04_cat_1' 'ps_car_04_cat_2' 'ps_car_04_cat_3' 'ps_car_04_cat_4'\n",
      " 'ps_car_04_cat_5' 'ps_car_04_cat_6' 'ps_car_04_cat_7' 'ps_car_04_cat_9'\n",
      " 'ps_car_05_cat_-1' 'ps_car_05_cat_0' 'ps_car_06_cat_0' 'ps_car_06_cat_1'\n",
      " 'ps_car_06_cat_2' 'ps_car_06_cat_3' 'ps_car_06_cat_4' 'ps_car_06_cat_5'\n",
      " 'ps_car_06_cat_6' 'ps_car_06_cat_7' 'ps_car_06_cat_8' 'ps_car_06_cat_9'\n",
      " 'ps_car_06_cat_10' 'ps_car_06_cat_11' 'ps_car_06_cat_12'\n",
      " 'ps_car_06_cat_14' 'ps_car_06_cat_15' 'ps_car_06_cat_16'\n",
      " 'ps_car_06_cat_17' 'ps_car_07_cat_-1' 'ps_car_07_cat_0' 'ps_car_08_cat_0'\n",
      " 'ps_car_08_cat_1' 'ps_car_09_cat_-1' 'ps_car_09_cat_0' 'ps_car_09_cat_1'\n",
      " 'ps_car_09_cat_3' 'ps_car_09_cat_4' 'ps_car_10_cat_0' 'ps_car_10_cat_2'\n",
      " 'ps_car_11_cat_1' 'ps_car_11_cat_2' 'ps_car_11_cat_3' 'ps_car_11_cat_4'\n",
      " 'ps_car_11_cat_5' 'ps_car_11_cat_6' 'ps_car_11_cat_7' 'ps_car_11_cat_8'\n",
      " 'ps_car_11_cat_9' 'ps_car_11_cat_10' 'ps_car_11_cat_12' 'ps_car_11_cat_13'\n",
      " 'ps_car_11_cat_14' 'ps_car_11_cat_15' 'ps_car_11_cat_16'\n",
      " 'ps_car_11_cat_17' 'ps_car_11_cat_18' 'ps_car_11_cat_20'\n",
      " 'ps_car_11_cat_21' 'ps_car_11_cat_22' 'ps_car_11_cat_23'\n",
      " 'ps_car_11_cat_24' 'ps_car_11_cat_25' 'ps_car_11_cat_26'\n",
      " 'ps_car_11_cat_27' 'ps_car_11_cat_29' 'ps_car_11_cat_30'\n",
      " 'ps_car_11_cat_31' 'ps_car_11_cat_32' 'ps_car_11_cat_33'\n",
      " 'ps_car_11_cat_34' 'ps_car_11_cat_35' 'ps_car_11_cat_36'\n",
      " 'ps_car_11_cat_37' 'ps_car_11_cat_38' 'ps_car_11_cat_39'\n",
      " 'ps_car_11_cat_40' 'ps_car_11_cat_41' 'ps_car_11_cat_43'\n",
      " 'ps_car_11_cat_44' 'ps_car_11_cat_45' 'ps_car_11_cat_46'\n",
      " 'ps_car_11_cat_47' 'ps_car_11_cat_48' 'ps_car_11_cat_49'\n",
      " 'ps_car_11_cat_50' 'ps_car_11_cat_52' 'ps_car_11_cat_53'\n",
      " 'ps_car_11_cat_55' 'ps_car_11_cat_56' 'ps_car_11_cat_57'\n",
      " 'ps_car_11_cat_58' 'ps_car_11_cat_59' 'ps_car_11_cat_60'\n",
      " 'ps_car_11_cat_61' 'ps_car_11_cat_62' 'ps_car_11_cat_63'\n",
      " 'ps_car_11_cat_64' 'ps_car_11_cat_65' 'ps_car_11_cat_66'\n",
      " 'ps_car_11_cat_67' 'ps_car_11_cat_69' 'ps_car_11_cat_71'\n",
      " 'ps_car_11_cat_72' 'ps_car_11_cat_73' 'ps_car_11_cat_74'\n",
      " 'ps_car_11_cat_75' 'ps_car_11_cat_76' 'ps_car_11_cat_77'\n",
      " 'ps_car_11_cat_78' 'ps_car_11_cat_79' 'ps_car_11_cat_80'\n",
      " 'ps_car_11_cat_81' 'ps_car_11_cat_82' 'ps_car_11_cat_83'\n",
      " 'ps_car_11_cat_85' 'ps_car_11_cat_86' 'ps_car_11_cat_87'\n",
      " 'ps_car_11_cat_88' 'ps_car_11_cat_89' 'ps_car_11_cat_90'\n",
      " 'ps_car_11_cat_91' 'ps_car_11_cat_92' 'ps_car_11_cat_93'\n",
      " 'ps_car_11_cat_94' 'ps_car_11_cat_95' 'ps_car_11_cat_96'\n",
      " 'ps_car_11_cat_97' 'ps_car_11_cat_98' 'ps_car_11_cat_99'\n",
      " 'ps_car_11_cat_101' 'ps_car_11_cat_103' 'ps_car_11_cat_104'\n",
      " 'ps_ind_02_cat_-1' 'ps_ind_02_cat_2' 'ps_ind_02_cat_3' 'ps_ind_02_cat_4'\n",
      " 'ps_ind_04_cat_-1' 'ps_ind_04_cat_0' 'ps_ind_04_cat_1' 'ps_ind_05_cat_-1'\n",
      " 'ps_ind_05_cat_0' 'ps_ind_05_cat_2' 'ps_ind_05_cat_3' 'ps_ind_05_cat_4'\n",
      " 'ps_ind_05_cat_6']\n"
     ]
    }
   ],
   "source": [
    "train = X_indicator.copy()\n",
    "test = test_indicator.copy()\n",
    "col = [c for c in train.columns if c not in ['id','target']]\n",
    "    \n",
    "# Feature Selection by Lasso\n",
    "print('Running Lasso..')\n",
    "scaler = StandardScaler()\n",
    "std_data = scaler.fit_transform(train[col].values)\n",
    "clf = LogisticRegression(penalty='l1', C=0.1, random_state=42, solver='liblinear', n_jobs=1)\n",
    "clf.fit(std_data, train['target'].values.reshape((-1,)))\n",
    "imp_feats_ind = np.nonzero(clf.coef_[0])[0]\n",
    "final_feats = np.array(col)[imp_feats_ind]\n",
    "print('Lasso Completed!')\n",
    "print('Total features selected are:', len(final_feats))\n",
    "print('Features Selected:', final_feats)"
   ]
  },
  {
   "cell_type": "code",
   "execution_count": 194,
   "metadata": {
    "collapsed": true
   },
   "outputs": [],
   "source": [
    "pred = pd.read_csv('C:/Users/pedro.castanha/Downloads/porto/result_xgb_baseline_onehot.csv', usecols=['target'])"
   ]
  },
  {
   "cell_type": "code",
   "execution_count": 195,
   "metadata": {},
   "outputs": [
    {
     "data": {
      "text/plain": [
       "(892816, 1)"
      ]
     },
     "execution_count": 195,
     "metadata": {},
     "output_type": "execute_result"
    }
   ],
   "source": [
    "pred.shape"
   ]
  },
  {
   "cell_type": "code",
   "execution_count": 204,
   "metadata": {},
   "outputs": [],
   "source": [
    "final_feats = np.append(final_feats, ['meta'])"
   ]
  },
  {
   "cell_type": "code",
   "execution_count": 206,
   "metadata": {},
   "outputs": [
    {
     "data": {
      "text/plain": [
       "(595212, 230)"
      ]
     },
     "execution_count": 206,
     "metadata": {},
     "output_type": "execute_result"
    }
   ],
   "source": [
    "X_indicator = indicators.iloc[df.index]\n",
    "train = X_indicator.copy()\n",
    "train.shape"
   ]
  },
  {
   "cell_type": "code",
   "execution_count": 207,
   "metadata": {
    "scrolled": false
   },
   "outputs": [
    {
     "name": "stdout",
     "output_type": "stream",
     "text": [
      "[0]\ttrain-gini:0.200884\tvalid-gini:0.189385\n",
      "Multiple eval metrics have been passed: 'valid-gini' will be used for early stopping.\n",
      "\n",
      "Will train until valid-gini hasn't improved in 100 rounds.\n",
      "[10]\ttrain-gini:0.234085\tvalid-gini:0.22408\n",
      "[20]\ttrain-gini:0.237555\tvalid-gini:0.225962\n",
      "[30]\ttrain-gini:0.237636\tvalid-gini:0.225954\n",
      "[40]\ttrain-gini:0.238949\tvalid-gini:0.227963\n",
      "[50]\ttrain-gini:0.24259\tvalid-gini:0.23132\n",
      "[60]\ttrain-gini:0.242859\tvalid-gini:0.231644\n",
      "[70]\ttrain-gini:0.24303\tvalid-gini:0.231788\n",
      "[80]\ttrain-gini:0.24429\tvalid-gini:0.232913\n",
      "[90]\ttrain-gini:0.245171\tvalid-gini:0.23324\n",
      "[100]\ttrain-gini:0.246817\tvalid-gini:0.234797\n",
      "[110]\ttrain-gini:0.248734\tvalid-gini:0.236091\n",
      "[120]\ttrain-gini:0.252005\tvalid-gini:0.238499\n",
      "[130]\ttrain-gini:0.256489\tvalid-gini:0.241196\n",
      "[140]\ttrain-gini:0.260282\tvalid-gini:0.243891\n",
      "[150]\ttrain-gini:0.264443\tvalid-gini:0.247113\n",
      "[160]\ttrain-gini:0.266908\tvalid-gini:0.247986\n",
      "[170]\ttrain-gini:0.269786\tvalid-gini:0.250389\n",
      "[180]\ttrain-gini:0.272973\tvalid-gini:0.25248\n",
      "[190]\ttrain-gini:0.276242\tvalid-gini:0.254556\n",
      "[200]\ttrain-gini:0.279066\tvalid-gini:0.256925\n",
      "[210]\ttrain-gini:0.281303\tvalid-gini:0.258037\n",
      "[220]\ttrain-gini:0.283875\tvalid-gini:0.259708\n",
      "[230]\ttrain-gini:0.286547\tvalid-gini:0.261635\n",
      "[240]\ttrain-gini:0.288905\tvalid-gini:0.263168\n",
      "[250]\ttrain-gini:0.291029\tvalid-gini:0.264878\n",
      "[260]\ttrain-gini:0.292959\tvalid-gini:0.265812\n",
      "[270]\ttrain-gini:0.295072\tvalid-gini:0.266909\n",
      "[280]\ttrain-gini:0.296481\tvalid-gini:0.267647\n",
      "[290]\ttrain-gini:0.297943\tvalid-gini:0.268167\n",
      "[300]\ttrain-gini:0.299785\tvalid-gini:0.269271\n",
      "[310]\ttrain-gini:0.301001\tvalid-gini:0.269706\n",
      "[320]\ttrain-gini:0.302715\tvalid-gini:0.270731\n",
      "[330]\ttrain-gini:0.304277\tvalid-gini:0.271206\n",
      "[340]\ttrain-gini:0.305879\tvalid-gini:0.271921\n",
      "[350]\ttrain-gini:0.307521\tvalid-gini:0.272792\n",
      "[360]\ttrain-gini:0.309063\tvalid-gini:0.273162\n",
      "[370]\ttrain-gini:0.310331\tvalid-gini:0.273486\n",
      "[380]\ttrain-gini:0.311832\tvalid-gini:0.274058\n",
      "[390]\ttrain-gini:0.312968\tvalid-gini:0.274092\n",
      "[400]\ttrain-gini:0.314385\tvalid-gini:0.274679\n",
      "[410]\ttrain-gini:0.315342\tvalid-gini:0.274885\n",
      "[420]\ttrain-gini:0.316766\tvalid-gini:0.275204\n",
      "[430]\ttrain-gini:0.317898\tvalid-gini:0.275454\n",
      "[440]\ttrain-gini:0.319133\tvalid-gini:0.275874\n",
      "[450]\ttrain-gini:0.320372\tvalid-gini:0.276141\n",
      "[460]\ttrain-gini:0.321539\tvalid-gini:0.27635\n",
      "[470]\ttrain-gini:0.322604\tvalid-gini:0.276535\n",
      "[480]\ttrain-gini:0.323798\tvalid-gini:0.276684\n",
      "[490]\ttrain-gini:0.324725\tvalid-gini:0.276909\n",
      "[500]\ttrain-gini:0.325948\tvalid-gini:0.277181\n",
      "[510]\ttrain-gini:0.327008\tvalid-gini:0.277256\n",
      "[520]\ttrain-gini:0.328023\tvalid-gini:0.277385\n",
      "[530]\ttrain-gini:0.329238\tvalid-gini:0.27767\n",
      "[540]\ttrain-gini:0.330176\tvalid-gini:0.27788\n",
      "[550]\ttrain-gini:0.331107\tvalid-gini:0.278214\n",
      "[560]\ttrain-gini:0.331948\tvalid-gini:0.278328\n",
      "[570]\ttrain-gini:0.333067\tvalid-gini:0.278367\n",
      "[580]\ttrain-gini:0.333919\tvalid-gini:0.278349\n",
      "[590]\ttrain-gini:0.334785\tvalid-gini:0.278352\n",
      "[600]\ttrain-gini:0.335889\tvalid-gini:0.278571\n",
      "[610]\ttrain-gini:0.336824\tvalid-gini:0.278801\n",
      "[620]\ttrain-gini:0.337772\tvalid-gini:0.278978\n",
      "[630]\ttrain-gini:0.338693\tvalid-gini:0.279143\n",
      "[640]\ttrain-gini:0.339427\tvalid-gini:0.279139\n",
      "[650]\ttrain-gini:0.34024\tvalid-gini:0.279014\n",
      "[660]\ttrain-gini:0.341234\tvalid-gini:0.279118\n",
      "[670]\ttrain-gini:0.342206\tvalid-gini:0.27929\n",
      "[680]\ttrain-gini:0.342999\tvalid-gini:0.279371\n",
      "[690]\ttrain-gini:0.343819\tvalid-gini:0.279441\n",
      "[700]\ttrain-gini:0.344656\tvalid-gini:0.279358\n",
      "[710]\ttrain-gini:0.345383\tvalid-gini:0.279413\n",
      "[720]\ttrain-gini:0.346267\tvalid-gini:0.279519\n",
      "[730]\ttrain-gini:0.347274\tvalid-gini:0.279669\n",
      "[740]\ttrain-gini:0.348099\tvalid-gini:0.279759\n",
      "[750]\ttrain-gini:0.349007\tvalid-gini:0.279697\n",
      "[760]\ttrain-gini:0.349938\tvalid-gini:0.279696\n",
      "[770]\ttrain-gini:0.350671\tvalid-gini:0.279715\n",
      "[780]\ttrain-gini:0.351342\tvalid-gini:0.279711\n",
      "[790]\ttrain-gini:0.35219\tvalid-gini:0.279713\n",
      "[800]\ttrain-gini:0.353107\tvalid-gini:0.279747\n",
      "[810]\ttrain-gini:0.353882\tvalid-gini:0.279728\n",
      "[820]\ttrain-gini:0.354831\tvalid-gini:0.279782\n",
      "[830]\ttrain-gini:0.355739\tvalid-gini:0.279795\n",
      "[840]\ttrain-gini:0.356377\tvalid-gini:0.279739\n",
      "[850]\ttrain-gini:0.357103\tvalid-gini:0.279734\n",
      "[860]\ttrain-gini:0.357976\tvalid-gini:0.27978\n",
      "[870]\ttrain-gini:0.358764\tvalid-gini:0.279911\n",
      "[880]\ttrain-gini:0.359539\tvalid-gini:0.279956\n",
      "[890]\ttrain-gini:0.360396\tvalid-gini:0.279966\n",
      "[900]\ttrain-gini:0.361227\tvalid-gini:0.279859\n",
      "[910]\ttrain-gini:0.36213\tvalid-gini:0.279856\n",
      "[920]\ttrain-gini:0.362821\tvalid-gini:0.279881\n",
      "[930]\ttrain-gini:0.363631\tvalid-gini:0.279852\n",
      "[940]\ttrain-gini:0.364482\tvalid-gini:0.280016\n",
      "[950]\ttrain-gini:0.365545\tvalid-gini:0.28001\n",
      "[960]\ttrain-gini:0.366253\tvalid-gini:0.279885\n",
      "[970]\ttrain-gini:0.366939\tvalid-gini:0.27988\n",
      "[980]\ttrain-gini:0.367693\tvalid-gini:0.279933\n",
      "Stopping. Best iteration:\n",
      "[883]\ttrain-gini:0.35985\tvalid-gini:0.280061\n",
      "\n"
     ]
    }
   ],
   "source": [
    "# XGBoost\n",
    "params = {'eta': 0.02, 'max_depth': 4, 'subsample': 0.9, 'colsample_bytree': 0.9, 'objective': 'binary:logistic', \n",
    "          'eval_metric': 'auc', 'seed': 99, 'silent': True}\n",
    "x1, x2, y1, y2 = train_test_split(train[final_feats], train['target'], test_size=0.25, random_state=99)\n",
    "watchlist = [(xgb.DMatrix(x1, y1), 'train'), (xgb.DMatrix(x2, y2), 'valid')]\n",
    "model = xgb.train(params, xgb.DMatrix(x1, y1), 5000, watchlist, feval=gini_xgb, maximize=True, verbose_eval=10, early_stopping_rounds=100)"
   ]
  },
  {
   "cell_type": "code",
   "execution_count": 208,
   "metadata": {
    "collapsed": true
   },
   "outputs": [],
   "source": [
    "predict_tmp = indicators[indicators.id.isin(df_test.id)]"
   ]
  },
  {
   "cell_type": "code",
   "execution_count": 185,
   "metadata": {
    "collapsed": true
   },
   "outputs": [],
   "source": [
    "test['target'] = model.predict(xgb.DMatrix(test[final_feats]), ntree_limit=model.best_ntree_limit+50)\n",
    "test[['id','target']].to_csv('~/Downloads/porto/result_xgb_baseline_onehot.csv', index=False, float_format='%.5f')"
   ]
  },
  {
   "cell_type": "code",
   "execution_count": 211,
   "metadata": {},
   "outputs": [
    {
     "name": "stderr",
     "output_type": "stream",
     "text": [
      "C:\\Users\\pedro.castanha\\AppData\\Local\\Continuum\\Anaconda3\\lib\\site-packages\\ipykernel_launcher.py:1: SettingWithCopyWarning: \n",
      "A value is trying to be set on a copy of a slice from a DataFrame.\n",
      "Try using .loc[row_indexer,col_indexer] = value instead\n",
      "\n",
      "See the caveats in the documentation: http://pandas.pydata.org/pandas-docs/stable/indexing.html#indexing-view-versus-copy\n",
      "  \"\"\"Entry point for launching an IPython kernel.\n"
     ]
    }
   ],
   "source": [
    "predict_tmp['target'] = model.predict(xgb.DMatrix(predict_tmp[final_feats]), ntree_limit=model.best_ntree_limit+50)\n",
    "predict_tmp[['id','target']].to_csv('~/Downloads/porto/result_xgb_baseline_onehot_meta.csv', index=False, float_format='%.5f')"
   ]
  },
  {
   "cell_type": "markdown",
   "metadata": {},
   "source": [
    "## Meta ensembling with XGB and LGB"
   ]
  },
  {
   "cell_type": "code",
   "execution_count": 226,
   "metadata": {},
   "outputs": [
    {
     "name": "stdout",
     "output_type": "stream",
     "text": [
      "(595212, 39) (892816, 38)\n",
      " xgb kfold: 1  of  5 : \n",
      "[0]\ttrain-gini:0.19047\tvalid-gini:0.197622\n",
      "Multiple eval metrics have been passed: 'valid-gini' will be used for early stopping.\n",
      "\n",
      "Will train until valid-gini hasn't improved in 100 rounds.\n",
      "[100]\ttrain-gini:0.250015\tvalid-gini:0.243101\n",
      "[200]\ttrain-gini:0.27618\tvalid-gini:0.2585\n",
      "[300]\ttrain-gini:0.296144\tvalid-gini:0.270284\n",
      "[400]\ttrain-gini:0.309669\tvalid-gini:0.276664\n",
      "[500]\ttrain-gini:0.319834\tvalid-gini:0.279849\n",
      "[600]\ttrain-gini:0.32752\tvalid-gini:0.281409\n",
      "[700]\ttrain-gini:0.334553\tvalid-gini:0.282087\n",
      "[800]\ttrain-gini:0.340891\tvalid-gini:0.281927\n",
      "Stopping. Best iteration:\n",
      "[707]\ttrain-gini:0.334978\tvalid-gini:0.282232\n",
      "\n",
      " xgb kfold: 2  of  5 : \n",
      "[0]\ttrain-gini:0.192166\tvalid-gini:0.181254\n",
      "Multiple eval metrics have been passed: 'valid-gini' will be used for early stopping.\n",
      "\n",
      "Will train until valid-gini hasn't improved in 100 rounds.\n",
      "[100]\ttrain-gini:0.249937\tvalid-gini:0.232574\n",
      "[200]\ttrain-gini:0.275353\tvalid-gini:0.256817\n",
      "[300]\ttrain-gini:0.295252\tvalid-gini:0.271603\n",
      "[400]\ttrain-gini:0.308932\tvalid-gini:0.278654\n",
      "[500]\ttrain-gini:0.319059\tvalid-gini:0.282012\n",
      "[600]\ttrain-gini:0.327041\tvalid-gini:0.283374\n",
      "[700]\ttrain-gini:0.334203\tvalid-gini:0.284466\n",
      "[800]\ttrain-gini:0.341174\tvalid-gini:0.285176\n",
      "[900]\ttrain-gini:0.347632\tvalid-gini:0.285768\n",
      "[1000]\ttrain-gini:0.353684\tvalid-gini:0.285885\n",
      "Stopping. Best iteration:\n",
      "[949]\ttrain-gini:0.350401\tvalid-gini:0.286187\n",
      "\n",
      " xgb kfold: 3  of  5 : \n",
      "[0]\ttrain-gini:0.191187\tvalid-gini:0.191833\n",
      "Multiple eval metrics have been passed: 'valid-gini' will be used for early stopping.\n",
      "\n",
      "Will train until valid-gini hasn't improved in 100 rounds.\n",
      "[100]\ttrain-gini:0.249035\tvalid-gini:0.24152\n",
      "[200]\ttrain-gini:0.277355\tvalid-gini:0.258248\n",
      "[300]\ttrain-gini:0.296865\tvalid-gini:0.270576\n",
      "[400]\ttrain-gini:0.3094\tvalid-gini:0.27675\n",
      "[500]\ttrain-gini:0.319627\tvalid-gini:0.279676\n",
      "[600]\ttrain-gini:0.3279\tvalid-gini:0.280931\n",
      "[700]\ttrain-gini:0.335412\tvalid-gini:0.281827\n",
      "[800]\ttrain-gini:0.342138\tvalid-gini:0.282094\n",
      "Stopping. Best iteration:\n",
      "[775]\ttrain-gini:0.340439\tvalid-gini:0.282147\n",
      "\n",
      " xgb kfold: 4  of  5 : \n",
      "[0]\ttrain-gini:0.163152\tvalid-gini:0.156002\n",
      "Multiple eval metrics have been passed: 'valid-gini' will be used for early stopping.\n",
      "\n",
      "Will train until valid-gini hasn't improved in 100 rounds.\n",
      "[100]\ttrain-gini:0.24877\tvalid-gini:0.236942\n",
      "[200]\ttrain-gini:0.274151\tvalid-gini:0.260929\n",
      "[300]\ttrain-gini:0.293486\tvalid-gini:0.275236\n",
      "[400]\ttrain-gini:0.30705\tvalid-gini:0.283171\n",
      "[500]\ttrain-gini:0.317331\tvalid-gini:0.286744\n",
      "[600]\ttrain-gini:0.325703\tvalid-gini:0.288809\n",
      "[700]\ttrain-gini:0.332861\tvalid-gini:0.290068\n",
      "[800]\ttrain-gini:0.339702\tvalid-gini:0.291248\n",
      "[900]\ttrain-gini:0.345698\tvalid-gini:0.291703\n",
      "Stopping. Best iteration:\n",
      "[882]\ttrain-gini:0.344481\tvalid-gini:0.29188\n",
      "\n",
      " xgb kfold: 5  of  5 : \n",
      "[0]\ttrain-gini:0.192295\tvalid-gini:0.180783\n",
      "Multiple eval metrics have been passed: 'valid-gini' will be used for early stopping.\n",
      "\n",
      "Will train until valid-gini hasn't improved in 100 rounds.\n",
      "[100]\ttrain-gini:0.252964\tvalid-gini:0.237774\n",
      "[200]\ttrain-gini:0.278954\tvalid-gini:0.25439\n",
      "[300]\ttrain-gini:0.29786\tvalid-gini:0.265035\n",
      "[400]\ttrain-gini:0.310896\tvalid-gini:0.270689\n",
      "[500]\ttrain-gini:0.320489\tvalid-gini:0.273987\n",
      "[600]\ttrain-gini:0.328477\tvalid-gini:0.27553\n",
      "[700]\ttrain-gini:0.335467\tvalid-gini:0.276793\n",
      "[800]\ttrain-gini:0.341804\tvalid-gini:0.277593\n",
      "[900]\ttrain-gini:0.347929\tvalid-gini:0.278123\n",
      "[1000]\ttrain-gini:0.353311\tvalid-gini:0.278357\n",
      "[1100]\ttrain-gini:0.358724\tvalid-gini:0.278743\n",
      "[1200]\ttrain-gini:0.364533\tvalid-gini:0.279232\n",
      "[1300]\ttrain-gini:0.369897\tvalid-gini:0.279105\n",
      "Stopping. Best iteration:\n",
      "[1215]\ttrain-gini:0.365409\tvalid-gini:0.279339\n",
      "\n",
      " lgb kfold: 1  of  5 : \n",
      "Training until validation scores don't improve for 100 rounds.\n",
      "[100]\tvalid_0's auc: 0.628702\tvalid_0's gini: 0.257404\n",
      "[200]\tvalid_0's auc: 0.6295\tvalid_0's gini: 0.258999\n",
      "[300]\tvalid_0's auc: 0.631891\tvalid_0's gini: 0.263782\n",
      "[400]\tvalid_0's auc: 0.634623\tvalid_0's gini: 0.269246\n",
      "[500]\tvalid_0's auc: 0.637072\tvalid_0's gini: 0.274144\n",
      "[600]\tvalid_0's auc: 0.638781\tvalid_0's gini: 0.277563\n",
      "[700]\tvalid_0's auc: 0.639987\tvalid_0's gini: 0.279974\n",
      "[800]\tvalid_0's auc: 0.640662\tvalid_0's gini: 0.281325\n",
      "[900]\tvalid_0's auc: 0.641269\tvalid_0's gini: 0.282537\n",
      "[1000]\tvalid_0's auc: 0.641318\tvalid_0's gini: 0.282636\n",
      "[1100]\tvalid_0's auc: 0.641638\tvalid_0's gini: 0.283276\n",
      "[1200]\tvalid_0's auc: 0.641554\tvalid_0's gini: 0.283108\n",
      "Early stopping, best iteration is:\n",
      "[1138]\tvalid_0's auc: 0.641783\tvalid_0's gini: 0.283566\n",
      " lgb kfold: 2  of  5 : \n",
      "Training until validation scores don't improve for 100 rounds.\n",
      "[100]\tvalid_0's auc: 0.625807\tvalid_0's gini: 0.251614\n",
      "[200]\tvalid_0's auc: 0.627035\tvalid_0's gini: 0.25407\n",
      "[300]\tvalid_0's auc: 0.630882\tvalid_0's gini: 0.261764\n",
      "[400]\tvalid_0's auc: 0.634611\tvalid_0's gini: 0.269223\n",
      "[500]\tvalid_0's auc: 0.637601\tvalid_0's gini: 0.275201\n",
      "[600]\tvalid_0's auc: 0.639534\tvalid_0's gini: 0.279069\n",
      "[700]\tvalid_0's auc: 0.640929\tvalid_0's gini: 0.281858\n",
      "[800]\tvalid_0's auc: 0.641611\tvalid_0's gini: 0.283223\n",
      "[900]\tvalid_0's auc: 0.642137\tvalid_0's gini: 0.284274\n",
      "[1000]\tvalid_0's auc: 0.642355\tvalid_0's gini: 0.28471\n",
      "[1100]\tvalid_0's auc: 0.642015\tvalid_0's gini: 0.284029\n",
      "Early stopping, best iteration is:\n",
      "[1000]\tvalid_0's auc: 0.642355\tvalid_0's gini: 0.28471\n",
      " lgb kfold: 3  of  5 : \n",
      "Training until validation scores don't improve for 100 rounds.\n",
      "[100]\tvalid_0's auc: 0.626849\tvalid_0's gini: 0.253696\n",
      "[200]\tvalid_0's auc: 0.627849\tvalid_0's gini: 0.255698\n",
      "[300]\tvalid_0's auc: 0.631312\tvalid_0's gini: 0.262624\n",
      "[400]\tvalid_0's auc: 0.633897\tvalid_0's gini: 0.267794\n",
      "[500]\tvalid_0's auc: 0.636898\tvalid_0's gini: 0.273797\n",
      "[600]\tvalid_0's auc: 0.639263\tvalid_0's gini: 0.278527\n",
      "[700]\tvalid_0's auc: 0.640451\tvalid_0's gini: 0.280903\n",
      "[800]\tvalid_0's auc: 0.64141\tvalid_0's gini: 0.28282\n",
      "[900]\tvalid_0's auc: 0.642001\tvalid_0's gini: 0.284001\n",
      "[1000]\tvalid_0's auc: 0.642097\tvalid_0's gini: 0.284193\n",
      "Early stopping, best iteration is:\n",
      "[910]\tvalid_0's auc: 0.642134\tvalid_0's gini: 0.284268\n",
      " lgb kfold: 4  of  5 : \n",
      "Training until validation scores don't improve for 100 rounds.\n",
      "[100]\tvalid_0's auc: 0.626437\tvalid_0's gini: 0.252868\n",
      "[200]\tvalid_0's auc: 0.62823\tvalid_0's gini: 0.25646\n",
      "[300]\tvalid_0's auc: 0.631911\tvalid_0's gini: 0.263821\n",
      "[400]\tvalid_0's auc: 0.636253\tvalid_0's gini: 0.272505\n",
      "[500]\tvalid_0's auc: 0.63975\tvalid_0's gini: 0.279499\n",
      "[600]\tvalid_0's auc: 0.642273\tvalid_0's gini: 0.284547\n",
      "[700]\tvalid_0's auc: 0.644282\tvalid_0's gini: 0.288563\n",
      "[800]\tvalid_0's auc: 0.645382\tvalid_0's gini: 0.290763\n",
      "[900]\tvalid_0's auc: 0.645741\tvalid_0's gini: 0.291482\n",
      "[1000]\tvalid_0's auc: 0.646393\tvalid_0's gini: 0.292787\n",
      "[1100]\tvalid_0's auc: 0.646437\tvalid_0's gini: 0.292875\n",
      "Early stopping, best iteration is:\n",
      "[1033]\tvalid_0's auc: 0.646539\tvalid_0's gini: 0.293079\n",
      " lgb kfold: 5  of  5 : \n",
      "Training until validation scores don't improve for 100 rounds.\n",
      "[100]\tvalid_0's auc: 0.624503\tvalid_0's gini: 0.249008\n",
      "[200]\tvalid_0's auc: 0.626908\tvalid_0's gini: 0.253816\n",
      "[300]\tvalid_0's auc: 0.629247\tvalid_0's gini: 0.258493\n",
      "[400]\tvalid_0's auc: 0.6315\tvalid_0's gini: 0.263001\n",
      "[500]\tvalid_0's auc: 0.63376\tvalid_0's gini: 0.26752\n",
      "[600]\tvalid_0's auc: 0.635916\tvalid_0's gini: 0.271831\n",
      "[700]\tvalid_0's auc: 0.637135\tvalid_0's gini: 0.27427\n",
      "[800]\tvalid_0's auc: 0.638044\tvalid_0's gini: 0.276089\n",
      "[900]\tvalid_0's auc: 0.638178\tvalid_0's gini: 0.276355\n",
      "[1000]\tvalid_0's auc: 0.638671\tvalid_0's gini: 0.277342\n",
      "[1100]\tvalid_0's auc: 0.638925\tvalid_0's gini: 0.277849\n",
      "[1200]\tvalid_0's auc: 0.639043\tvalid_0's gini: 0.278087\n",
      "[1300]\tvalid_0's auc: 0.639106\tvalid_0's gini: 0.278212\n",
      "Early stopping, best iteration is:\n",
      "[1271]\tvalid_0's auc: 0.639227\tvalid_0's gini: 0.278454\n"
     ]
    },
    {
     "data": {
      "text/html": [
       "<div>\n",
       "<style>\n",
       "    .dataframe thead tr:only-child th {\n",
       "        text-align: right;\n",
       "    }\n",
       "\n",
       "    .dataframe thead th {\n",
       "        text-align: left;\n",
       "    }\n",
       "\n",
       "    .dataframe tbody tr th {\n",
       "        vertical-align: top;\n",
       "    }\n",
       "</style>\n",
       "<table border=\"1\" class=\"dataframe\">\n",
       "  <thead>\n",
       "    <tr style=\"text-align: right;\">\n",
       "      <th></th>\n",
       "      <th>id</th>\n",
       "      <th>target</th>\n",
       "    </tr>\n",
       "  </thead>\n",
       "  <tbody>\n",
       "    <tr>\n",
       "      <th>0</th>\n",
       "      <td>0</td>\n",
       "      <td>0.026310</td>\n",
       "    </tr>\n",
       "    <tr>\n",
       "      <th>1</th>\n",
       "      <td>1</td>\n",
       "      <td>0.027545</td>\n",
       "    </tr>\n",
       "  </tbody>\n",
       "</table>\n",
       "</div>"
      ],
      "text/plain": [
       "   id    target\n",
       "0   0  0.026310\n",
       "1   1  0.027545"
      ]
     },
     "execution_count": 226,
     "metadata": {},
     "output_type": "execute_result"
    }
   ],
   "source": [
    "train = df.copy()\n",
    "test = df_test.copy()\n",
    "\n",
    "col_to_drop = train.columns[train.columns.str.startswith('ps_calc_')]\n",
    "train = train.drop(col_to_drop, axis=1)\n",
    "test = test.drop(col_to_drop, axis=1)\n",
    "\n",
    "for c in train.select_dtypes(include=['float64']).columns:\n",
    "    train[c]=train[c].astype(np.float32)\n",
    "    test[c]=test[c].astype(np.float32)\n",
    "for c in train.select_dtypes(include=['int64']).columns[2:]:\n",
    "    train[c]=train[c].astype(np.int8)\n",
    "    test[c]=test[c].astype(np.int8)  \n",
    "\n",
    "print(train.shape, test.shape)\n",
    "\n",
    "# xgb\n",
    "params = {'eta': 0.02, 'max_depth': 4, 'subsample': 0.9, 'colsample_bytree': 0.9, \n",
    "          'objective': 'binary:logistic', 'eval_metric': 'auc', 'silent': True}\n",
    "\n",
    "X = train.drop(['id', 'target'], axis=1)\n",
    "features = X.columns\n",
    "X = X.values\n",
    "y = train['target'].values\n",
    "sub=test['id'].to_frame()\n",
    "sub['target']=0\n",
    "\n",
    "nrounds=2000  # need to change to 2000\n",
    "kfold = 5  # need to change to 5\n",
    "skf = StratifiedKFold(n_splits=kfold, random_state=0)\n",
    "for i, (train_index, test_index) in enumerate(skf.split(X, y)):\n",
    "    print(' xgb kfold: {}  of  {} : '.format(i+1, kfold))\n",
    "    X_train, X_valid = X[train_index], X[test_index]\n",
    "    y_train, y_valid = y[train_index], y[test_index]\n",
    "    d_train = xgb.DMatrix(X_train, y_train) \n",
    "    d_valid = xgb.DMatrix(X_valid, y_valid) \n",
    "    watchlist = [(d_train, 'train'), (d_valid, 'valid')]\n",
    "    xgb_model = xgb.train(params, d_train, nrounds, watchlist, early_stopping_rounds=100, \n",
    "                          feval=gini_xgb, maximize=True, verbose_eval=100)\n",
    "    sub['target'] += xgb_model.predict(xgb.DMatrix(test[features].values), \n",
    "                        ntree_limit=xgb_model.best_ntree_limit+50) / (2*kfold)\n",
    "gc.collect()\n",
    "sub.head(2)\n",
    "\n",
    "# lgb\n",
    "params = {'metric': 'auc', 'learning_rate' : 0.01, 'max_depth':10, 'max_bin':10,  'objective': 'binary', \n",
    "          'feature_fraction': 0.8,'bagging_fraction':0.9,'bagging_freq':10,  'min_data': 500}\n",
    "\n",
    "skf = StratifiedKFold(n_splits=kfold, random_state=1)\n",
    "for i, (train_index, test_index) in enumerate(skf.split(X, y)):\n",
    "    print(' lgb kfold: {}  of  {} : '.format(i+1, kfold))\n",
    "    X_train, X_eval = X[train_index], X[test_index]\n",
    "    y_train, y_eval = y[train_index], y[test_index]\n",
    "    lgb_model = lgb.train(params, lgb.Dataset(X_train, label=y_train), nrounds, \n",
    "                  lgb.Dataset(X_eval, label=y_eval), verbose_eval=100, \n",
    "                  feval=gini_lgb, early_stopping_rounds=100)\n",
    "    sub['target'] += lgb_model.predict(test[features].values, \n",
    "                        num_iteration=lgb_model.best_iteration) / (2*kfold)\n",
    "    \n",
    "sub.to_csv('~/Downloads/porto/result_xgb_meta_lgb.csv', index=False, float_format='%.5f') \n",
    "gc.collect()\n",
    "sub.head(2)"
   ]
  },
  {
   "cell_type": "markdown",
   "metadata": {},
   "source": [
    "### Averaging"
   ]
  },
  {
   "cell_type": "code",
   "execution_count": 228,
   "metadata": {},
   "outputs": [],
   "source": [
    "df1 = pd.read_csv('C:/Users/pedro.castanha/Downloads/porto/result_xgb_baseline.csv')\n",
    "df2 = pd.read_csv('C:/Users/pedro.castanha/Downloads/porto/result_xgb_baseline_onehot.csv')\n",
    "df3 = pd.read_csv('C:/Users/pedro.castanha/Downloads/porto/result_xgb_meta_lgb.csv')"
   ]
  },
  {
   "cell_type": "code",
   "execution_count": 231,
   "metadata": {},
   "outputs": [],
   "source": [
    "m1 = pd.merge(df1, df2, on=['id'])"
   ]
  },
  {
   "cell_type": "code",
   "execution_count": 232,
   "metadata": {},
   "outputs": [
    {
     "data": {
      "text/html": [
       "<div>\n",
       "<style>\n",
       "    .dataframe thead tr:only-child th {\n",
       "        text-align: right;\n",
       "    }\n",
       "\n",
       "    .dataframe thead th {\n",
       "        text-align: left;\n",
       "    }\n",
       "\n",
       "    .dataframe tbody tr th {\n",
       "        vertical-align: top;\n",
       "    }\n",
       "</style>\n",
       "<table border=\"1\" class=\"dataframe\">\n",
       "  <thead>\n",
       "    <tr style=\"text-align: right;\">\n",
       "      <th></th>\n",
       "      <th>id</th>\n",
       "      <th>target_x</th>\n",
       "      <th>target_y</th>\n",
       "      <th>target</th>\n",
       "    </tr>\n",
       "  </thead>\n",
       "  <tbody>\n",
       "    <tr>\n",
       "      <th>0</th>\n",
       "      <td>0</td>\n",
       "      <td>0.02813</td>\n",
       "      <td>0.02975</td>\n",
       "      <td>0.02631</td>\n",
       "    </tr>\n",
       "    <tr>\n",
       "      <th>1</th>\n",
       "      <td>1</td>\n",
       "      <td>0.02827</td>\n",
       "      <td>0.02507</td>\n",
       "      <td>0.02755</td>\n",
       "    </tr>\n",
       "    <tr>\n",
       "      <th>2</th>\n",
       "      <td>2</td>\n",
       "      <td>0.02659</td>\n",
       "      <td>0.02842</td>\n",
       "      <td>0.02639</td>\n",
       "    </tr>\n",
       "  </tbody>\n",
       "</table>\n",
       "</div>"
      ],
      "text/plain": [
       "   id  target_x  target_y   target\n",
       "0   0   0.02813   0.02975  0.02631\n",
       "1   1   0.02827   0.02507  0.02755\n",
       "2   2   0.02659   0.02842  0.02639"
      ]
     },
     "execution_count": 232,
     "metadata": {},
     "output_type": "execute_result"
    }
   ],
   "source": [
    "m2 = pd.merge(m1, df3, on=['id'])\n",
    "m2.head(3)"
   ]
  },
  {
   "cell_type": "code",
   "execution_count": 236,
   "metadata": {},
   "outputs": [],
   "source": [
    "m2['avg'] = m2[['target_x', 'target_y', 'target']].mean(axis=1)"
   ]
  },
  {
   "cell_type": "code",
   "execution_count": 238,
   "metadata": {},
   "outputs": [
    {
     "data": {
      "text/html": [
       "<div>\n",
       "<style>\n",
       "    .dataframe thead tr:only-child th {\n",
       "        text-align: right;\n",
       "    }\n",
       "\n",
       "    .dataframe thead th {\n",
       "        text-align: left;\n",
       "    }\n",
       "\n",
       "    .dataframe tbody tr th {\n",
       "        vertical-align: top;\n",
       "    }\n",
       "</style>\n",
       "<table border=\"1\" class=\"dataframe\">\n",
       "  <thead>\n",
       "    <tr style=\"text-align: right;\">\n",
       "      <th></th>\n",
       "      <th>id</th>\n",
       "      <th>target_x</th>\n",
       "      <th>target_y</th>\n",
       "      <th>target_z</th>\n",
       "      <th>target</th>\n",
       "    </tr>\n",
       "  </thead>\n",
       "  <tbody>\n",
       "    <tr>\n",
       "      <th>0</th>\n",
       "      <td>0</td>\n",
       "      <td>0.02813</td>\n",
       "      <td>0.02975</td>\n",
       "      <td>0.02631</td>\n",
       "      <td>0.028063</td>\n",
       "    </tr>\n",
       "    <tr>\n",
       "      <th>1</th>\n",
       "      <td>1</td>\n",
       "      <td>0.02827</td>\n",
       "      <td>0.02507</td>\n",
       "      <td>0.02755</td>\n",
       "      <td>0.026963</td>\n",
       "    </tr>\n",
       "    <tr>\n",
       "      <th>2</th>\n",
       "      <td>2</td>\n",
       "      <td>0.02659</td>\n",
       "      <td>0.02842</td>\n",
       "      <td>0.02639</td>\n",
       "      <td>0.027133</td>\n",
       "    </tr>\n",
       "  </tbody>\n",
       "</table>\n",
       "</div>"
      ],
      "text/plain": [
       "   id  target_x  target_y  target_z    target\n",
       "0   0   0.02813   0.02975   0.02631  0.028063\n",
       "1   1   0.02827   0.02507   0.02755  0.026963\n",
       "2   2   0.02659   0.02842   0.02639  0.027133"
      ]
     },
     "execution_count": 238,
     "metadata": {},
     "output_type": "execute_result"
    }
   ],
   "source": [
    "m2.rename(columns={'target': 'target_z', 'avg': 'target'}, inplace=True)\n",
    "m2.head(3)"
   ]
  },
  {
   "cell_type": "code",
   "execution_count": 239,
   "metadata": {
    "collapsed": true
   },
   "outputs": [],
   "source": [
    "m2[['id', 'target']].to_csv('C:/Users/pedro.castanha/Downloads/porto/result_xgb_avg.csv', index=False, float_format='%.5f')"
   ]
  }
 ],
 "metadata": {
  "kernelspec": {
   "display_name": "Python 3",
   "language": "python",
   "name": "python3"
  },
  "language_info": {
   "codemirror_mode": {
    "name": "ipython",
    "version": 3
   },
   "file_extension": ".py",
   "mimetype": "text/x-python",
   "name": "python",
   "nbconvert_exporter": "python",
   "pygments_lexer": "ipython3",
   "version": "3.6.1"
  }
 },
 "nbformat": 4,
 "nbformat_minor": 2
}

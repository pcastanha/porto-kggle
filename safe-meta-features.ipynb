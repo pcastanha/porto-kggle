{
 "cells": [
  {
   "cell_type": "code",
   "execution_count": 1,
   "metadata": {},
   "outputs": [
    {
     "name": "stderr",
     "output_type": "stream",
     "text": [
      "C:\\Users\\pedro.castanha\\AppData\\Local\\Continuum\\Anaconda3\\lib\\site-packages\\sklearn\\cross_validation.py:44: DeprecationWarning: This module was deprecated in version 0.18 in favor of the model_selection module into which all the refactored classes and functions are moved. Also note that the interface of the new CV iterators are different from that of this module. This module will be removed in 0.20.\n",
      "  \"This module will be removed in 0.20.\", DeprecationWarning)\n"
     ]
    }
   ],
   "source": [
    "import gc\n",
    "import math\n",
    "\n",
    "import numpy as np\n",
    "import pandas as pd\n",
    "import xgboost as xgb\n",
    "import lightgbm as lgb\n",
    "\n",
    "import matplotlib.pyplot as plt\n",
    "\n",
    "from sklearn.model_selection import StratifiedKFold\n",
    "from sklearn.model_selection import train_test_split\n",
    "from sklearn.preprocessing import StandardScaler\n",
    "from sklearn.preprocessing import PolynomialFeatures\n",
    "from sklearn.ensemble import RandomForestClassifier\n",
    "from sklearn.ensemble import GradientBoostingClassifier\n",
    "from sklearn.linear_model import LogisticRegression\n",
    "\n",
    "from sklearn.decomposition import PCA\n",
    "\n",
    "from sklearn.metrics import classification_report"
   ]
  },
  {
   "cell_type": "code",
   "execution_count": 2,
   "metadata": {
    "collapsed": true
   },
   "outputs": [],
   "source": [
    "def gini(y, pred):\n",
    "    assert(len(y) == len(pred))\n",
    "    g = np.asarray(np.c_[y, pred, np.arange(len(y)) ], dtype=np.float)\n",
    "    g = g[np.lexsort((g[:,2], -1*g[:,1]))]\n",
    "    gs = g[:,0].cumsum().sum() / g[:,0].sum()\n",
    "    gs -= (len(y) + 1) / 2.\n",
    "    return gs / len(y)\n",
    "\n",
    "def gini_xgb(pred, y):\n",
    "    y = y.get_label()\n",
    "    return 'gini', gini(y, pred) / gini(y, y)\n",
    "\n",
    "def gini_lgb(preds, dtrain):\n",
    "    y = list(dtrain.get_label())\n",
    "    score = gini(y, preds) / gini(y, y)\n",
    "    return 'gini', score, True"
   ]
  },
  {
   "cell_type": "code",
   "execution_count": 3,
   "metadata": {
    "collapsed": true
   },
   "outputs": [],
   "source": [
    "df_train = pd.read_csv('C:/Users/pedro.castanha/Downloads/porto/train.csv')\n",
    "df_test = pd.read_csv('C:/Users/pedro.castanha/Downloads/porto/test.csv')"
   ]
  },
  {
   "cell_type": "code",
   "execution_count": 4,
   "metadata": {
    "collapsed": true
   },
   "outputs": [],
   "source": [
    "#train = df_train.copy()\n",
    "#test = df_test.copy()\n",
    "#col = [c for c in train.columns if c not in ['id','target']]\n",
    "\n",
    "def feature_selection(X, cols):\n",
    "    # Feature Selection by Regularization\n",
    "    print('Running Lasso..')\n",
    "    \n",
    "    scaler = StandardScaler()\n",
    "    std_data = scaler.fit_transform(X[cols].values)\n",
    "    clf = LogisticRegression(penalty='l1', C=0.1, random_state=42, solver='liblinear', n_jobs=-1)\n",
    "    clf.fit(std_data, X['target'].values.reshape((-1,)))\n",
    "    imp_feats_ind = np.nonzero(clf.coef_[0])[0]\n",
    "    final_feats = np.array(cols)[imp_feats_ind]\n",
    "    \n",
    "    print('Completed!')\n",
    "    print('Total features selected are:', len(final_feats))\n",
    "    print('Features Selected:', final_feats)\n",
    "    \n",
    "    return final_feats\n",
    "\n",
    "#final_feats = feature_selection(train, col)"
   ]
  },
  {
   "cell_type": "code",
   "execution_count": 39,
   "metadata": {
    "collapsed": true
   },
   "outputs": [],
   "source": [
    "df_balanced = pd.concat([train[train.target == 0].sample(n=train[train.target == 1].shape[0]), train[train.target == 1]])"
   ]
  },
  {
   "cell_type": "code",
   "execution_count": 41,
   "metadata": {
    "collapsed": true
   },
   "outputs": [],
   "source": [
    "clf = GradientBoostingClassifier(n_estimators=100, random_state=99)"
   ]
  },
  {
   "cell_type": "code",
   "execution_count": 31,
   "metadata": {},
   "outputs": [
    {
     "data": {
      "text/plain": [
       "[('ps_car_13', 0.13274210883565402),\n",
       " ('ps_ind_03', 0.10824961817053291),\n",
       " ('ps_reg_03', 0.069123093278157952),\n",
       " ('ps_ind_15', 0.057073047561333495),\n",
       " ('ps_ind_05_cat', 0.053819868493581197),\n",
       " ('ps_car_01_cat', 0.048150222823425626),\n",
       " ('ps_reg_01', 0.038437535662641527),\n",
       " ('ps_car_09_cat', 0.03252902868402105),\n",
       " ('ps_ind_17_bin', 0.030144527809466679),\n",
       " ('ps_ind_01', 0.028311268890030373),\n",
       " ('ps_car_07_cat', 0.025796314801762629),\n",
       " ('ps_ind_02_cat', 0.025420607040958679),\n",
       " ('ps_car_03_cat', 0.024746832978277226),\n",
       " ('ps_car_11', 0.02231672436447367),\n",
       " ('ps_car_14', 0.022199596112318823),\n",
       " ('ps_reg_02', 0.021141252986491756),\n",
       " ('ps_ind_08_bin', 0.021138129296915335),\n",
       " ('ps_ind_07_bin', 0.020770138623998929),\n",
       " ('ps_car_11_cat', 0.019257944005454237),\n",
       " ('ps_car_15', 0.017876105553081292),\n",
       " ('ps_calc_14', 0.017007156081678677),\n",
       " ('ps_calc_10', 0.015104753950231786),\n",
       " ('ps_calc_01', 0.014764205073792381),\n",
       " ('ps_ind_16_bin', 0.014582997433233021),\n",
       " ('ps_ind_04_cat', 0.012818803524558567),\n",
       " ('ps_car_06_cat', 0.012193441279013239),\n",
       " ('ps_calc_02', 0.009222391160928281),\n",
       " ('ps_calc_11', 0.0087274722057863081),\n",
       " ('ps_ind_06_bin', 0.0083019150237401747),\n",
       " ('ps_calc_09', 0.0075274401874429499),\n",
       " ('ps_calc_08', 0.0071695880199015138),\n",
       " ('ps_calc_15_bin', 0.006664378782697173),\n",
       " ('ps_car_02_cat', 0.0065128190118100126),\n",
       " ('ps_car_12', 0.0061625311978922188),\n",
       " ('ps_calc_05', 0.0060051470696146124),\n",
       " ('ps_car_04_cat', 0.0056694408419928777),\n",
       " ('ps_calc_03', 0.0048694805206549972),\n",
       " ('ps_calc_20_bin', 0.0043207345475536766),\n",
       " ('ps_calc_12', 0.0031434698168885276),\n",
       " ('ps_car_05_cat', 0.0023906116302442348),\n",
       " ('ps_calc_16_bin', 0.0023485546149851623),\n",
       " ('ps_calc_13', 0.0020376046795774544),\n",
       " ('ps_car_08_cat', 0.0012045915039049218),\n",
       " ('ps_calc_18_bin', 0.0010262807790812083),\n",
       " ('ps_calc_19_bin', 0.00098022509021870072),\n",
       " ('ps_ind_10_bin', 0.0),\n",
       " ('ps_ind_11_bin', 0.0),\n",
       " ('ps_ind_13_bin', 0.0),\n",
       " ('ps_ind_14', 0.0),\n",
       " ('ps_ind_18_bin', 0.0),\n",
       " ('ps_car_10_cat', 0.0),\n",
       " ('ps_calc_17_bin', 0.0)]"
      ]
     },
     "execution_count": 31,
     "metadata": {},
     "output_type": "execute_result"
    }
   ],
   "source": [
    "clf.fit(df_balanced[final_feats], df_balanced['target'])\n",
    "importances = list(zip(final_feats, list(clf.feature_importances_)))\n",
    "sorted(importances, key=lambda x: x[1], reverse=True)"
   ]
  },
  {
   "cell_type": "code",
   "execution_count": 32,
   "metadata": {},
   "outputs": [
    {
     "data": {
      "text/plain": [
       "['ps_car_13', 'ps_ind_03', 'ps_reg_03', 'ps_ind_15']"
      ]
     },
     "execution_count": 32,
     "metadata": {},
     "output_type": "execute_result"
    }
   ],
   "source": [
    "meta = ['ps_car_13','ps_ind_03','ps_reg_03','ps_ind_15']\n",
    "meta"
   ]
  },
  {
   "cell_type": "code",
   "execution_count": 33,
   "metadata": {
    "collapsed": true
   },
   "outputs": [],
   "source": [
    "train['ps_car_13_x_ps_ind_03'] = train['ps_car_13'] * train['ps_ind_03']\n",
    "train['ps_car_13_x_ps_reg_03'] = train['ps_car_13'] * train['ps_reg_03']\n",
    "train['ps_car_13_x_ps_ind_15'] = train['ps_car_13'] * train['ps_ind_15']\n",
    "train['ps_ind_03_x_ps_reg_03'] = train['ps_ind_03'] * train['ps_reg_03']\n",
    "train['ps_ind_03_x_ps_ind_15'] = train['ps_ind_03'] * train['ps_ind_15']\n",
    "train['ps_reg_03_x_ps_ind_15'] = train['ps_reg_03'] * train['ps_ind_15']\n",
    "train['ps_car_13_x_ps_reg_03_x_ps_ind_03'] = train['ps_car_13'] * train['ps_reg_03'] * train['ps_ind_03']\n",
    "train['ps_ind_03_x_ps_reg_03_x_ps_ind_15'] = train['ps_ind_03'] * train['ps_reg_03'] * train['ps_ind_15']"
   ]
  },
  {
   "cell_type": "code",
   "execution_count": null,
   "metadata": {},
   "outputs": [],
   "source": [
    "final_feats = np.append(final_feats, ['ps_car_13_x_ps_ind_03', 'ps_car_13_x_ps_reg_03', 'ps_car_13_x_ps_ind_15', 'ps_ind_03_x_ps_reg_03',\n",
    "                        'ps_ind_03_x_ps_ind_15', 'ps_reg_03_x_ps_ind_15','ps_car_13_x_ps_reg_03_x_ps_ind_03',\n",
    "                        'ps_ind_03_x_ps_reg_03_x_ps_ind_15'])"
   ]
  },
  {
   "cell_type": "code",
   "execution_count": null,
   "metadata": {},
   "outputs": [],
   "source": [
    "clf.fit(df_balanced[final_feats], df_balanced['target'])\n",
    "importances = list(zip(final_feats, list(clf.feature_importances_)))\n",
    "sorted(importances, key=lambda x: x[1], reverse=True)"
   ]
  },
  {
   "cell_type": "markdown",
   "metadata": {},
   "source": [
    "## Model ensembling"
   ]
  },
  {
   "cell_type": "code",
   "execution_count": 5,
   "metadata": {},
   "outputs": [
    {
     "data": {
      "text/plain": [
       "14"
      ]
     },
     "execution_count": 5,
     "metadata": {},
     "output_type": "execute_result"
    }
   ],
   "source": [
    "categorical = [c for c in df_train.columns if '_cat' in c]\n",
    "len(categorical)"
   ]
  },
  {
   "cell_type": "code",
   "execution_count": 6,
   "metadata": {},
   "outputs": [
    {
     "name": "stdout",
     "output_type": "stream",
     "text": [
      "(595212, 59)\n",
      "(892816, 58)\n"
     ]
    }
   ],
   "source": [
    "print(df_train.shape)\n",
    "print(df_test.shape)"
   ]
  },
  {
   "cell_type": "code",
   "execution_count": 70,
   "metadata": {},
   "outputs": [
    {
     "name": "stdout",
     "output_type": "stream",
     "text": [
      "(595212, 229)\n",
      "(892816, 228)\n"
     ]
    }
   ],
   "source": [
    "join = pd.concat([df_train, df_test], ignore_index=True)\n",
    "\n",
    "encoded = pd.get_dummies(join, columns=categorical)\n",
    "encoded.shape\n",
    "\n",
    "train_encoded = encoded.loc[encoded.id.isin(df_train.id), ]\n",
    "test_encoded = encoded.loc[encoded.id.isin(df_test.id), ].drop(['target'], axis=1)\n",
    "\n",
    "print(train_encoded.shape)\n",
    "print(test_encoded.shape)"
   ]
  },
  {
   "cell_type": "code",
   "execution_count": 72,
   "metadata": {},
   "outputs": [
    {
     "name": "stderr",
     "output_type": "stream",
     "text": [
      "C:\\Users\\pedro.castanha\\AppData\\Local\\Continuum\\Anaconda3\\lib\\site-packages\\pandas\\core\\generic.py:2999: SettingWithCopyWarning: \n",
      "A value is trying to be set on a copy of a slice from a DataFrame.\n",
      "Try using .loc[row_indexer,col_indexer] = value instead\n",
      "\n",
      "See the caveats in the documentation: http://pandas.pydata.org/pandas-docs/stable/indexing.html#indexing-view-versus-copy\n",
      "  self[name] = value\n"
     ]
    }
   ],
   "source": [
    "train_encoded.target = train_encoded.target.astype(np.int8)"
   ]
  },
  {
   "cell_type": "code",
   "execution_count": 75,
   "metadata": {
    "scrolled": true
   },
   "outputs": [
    {
     "name": "stdout",
     "output_type": "stream",
     "text": [
      "(595212, 211) (892816, 210)\n",
      " xgb kfold: 1  of  5 : \n",
      "[0]\ttrain-gini:0.190821\tvalid-gini:0.189363\n",
      "Multiple eval metrics have been passed: 'valid-gini' will be used for early stopping.\n",
      "\n",
      "Will train until valid-gini hasn't improved in 100 rounds.\n",
      "[100]\ttrain-gini:0.25153\tvalid-gini:0.245314\n",
      "[200]\ttrain-gini:0.276886\tvalid-gini:0.260749\n",
      "[300]\ttrain-gini:0.296899\tvalid-gini:0.270299\n",
      "[400]\ttrain-gini:0.310255\tvalid-gini:0.275256\n",
      "[500]\ttrain-gini:0.321217\tvalid-gini:0.2782\n",
      "[600]\ttrain-gini:0.330218\tvalid-gini:0.279536\n",
      "[700]\ttrain-gini:0.338469\tvalid-gini:0.280641\n",
      "[800]\ttrain-gini:0.34553\tvalid-gini:0.280856\n",
      "[900]\ttrain-gini:0.352803\tvalid-gini:0.281242\n",
      "[1000]\ttrain-gini:0.359483\tvalid-gini:0.281857\n",
      "[1100]\ttrain-gini:0.366354\tvalid-gini:0.281988\n",
      "Stopping. Best iteration:\n",
      "[1073]\ttrain-gini:0.364598\tvalid-gini:0.282129\n",
      "\n",
      " xgb kfold: 2  of  5 : \n",
      "[0]\ttrain-gini:0.189524\tvalid-gini:0.184896\n",
      "Multiple eval metrics have been passed: 'valid-gini' will be used for early stopping.\n",
      "\n",
      "Will train until valid-gini hasn't improved in 100 rounds.\n",
      "[100]\ttrain-gini:0.253488\tvalid-gini:0.237718\n",
      "[200]\ttrain-gini:0.276832\tvalid-gini:0.256293\n",
      "[300]\ttrain-gini:0.297483\tvalid-gini:0.270494\n",
      "[400]\ttrain-gini:0.310543\tvalid-gini:0.275687\n",
      "[500]\ttrain-gini:0.321646\tvalid-gini:0.27943\n",
      "[600]\ttrain-gini:0.330266\tvalid-gini:0.280667\n",
      "[700]\ttrain-gini:0.338215\tvalid-gini:0.282128\n",
      "[800]\ttrain-gini:0.345239\tvalid-gini:0.283057\n",
      "[900]\ttrain-gini:0.352102\tvalid-gini:0.283553\n",
      "[1000]\ttrain-gini:0.359263\tvalid-gini:0.28387\n",
      "[1100]\ttrain-gini:0.366027\tvalid-gini:0.284325\n",
      "Stopping. Best iteration:\n",
      "[1076]\ttrain-gini:0.364347\tvalid-gini:0.284365\n",
      "\n",
      " xgb kfold: 3  of  5 : \n",
      "[0]\ttrain-gini:0.190786\tvalid-gini:0.181133\n",
      "Multiple eval metrics have been passed: 'valid-gini' will be used for early stopping.\n",
      "\n",
      "Will train until valid-gini hasn't improved in 100 rounds.\n",
      "[100]\ttrain-gini:0.251368\tvalid-gini:0.241716\n",
      "[200]\ttrain-gini:0.277216\tvalid-gini:0.259141\n",
      "[300]\ttrain-gini:0.297859\tvalid-gini:0.271811\n",
      "[400]\ttrain-gini:0.311287\tvalid-gini:0.276829\n",
      "[500]\ttrain-gini:0.322567\tvalid-gini:0.279836\n",
      "[600]\ttrain-gini:0.331165\tvalid-gini:0.281622\n",
      "[700]\ttrain-gini:0.339278\tvalid-gini:0.282753\n",
      "[800]\ttrain-gini:0.346983\tvalid-gini:0.283242\n",
      "[900]\ttrain-gini:0.354226\tvalid-gini:0.284095\n",
      "[1000]\ttrain-gini:0.361761\tvalid-gini:0.28447\n",
      "[1100]\ttrain-gini:0.367806\tvalid-gini:0.284493\n",
      "[1200]\ttrain-gini:0.373472\tvalid-gini:0.284447\n",
      "[1300]\ttrain-gini:0.379556\tvalid-gini:0.284589\n",
      "[1400]\ttrain-gini:0.385535\tvalid-gini:0.284661\n",
      "Stopping. Best iteration:\n",
      "[1345]\ttrain-gini:0.382447\tvalid-gini:0.284796\n",
      "\n",
      " xgb kfold: 4  of  5 : \n",
      "[0]\ttrain-gini:0.190368\tvalid-gini:0.176899\n",
      "Multiple eval metrics have been passed: 'valid-gini' will be used for early stopping.\n",
      "\n",
      "Will train until valid-gini hasn't improved in 100 rounds.\n",
      "[100]\ttrain-gini:0.251612\tvalid-gini:0.236558\n",
      "[200]\ttrain-gini:0.275041\tvalid-gini:0.259075\n",
      "[300]\ttrain-gini:0.295951\tvalid-gini:0.274393\n",
      "[400]\ttrain-gini:0.309031\tvalid-gini:0.281011\n",
      "[500]\ttrain-gini:0.320071\tvalid-gini:0.284221\n",
      "[600]\ttrain-gini:0.328608\tvalid-gini:0.286176\n",
      "[700]\ttrain-gini:0.337216\tvalid-gini:0.288143\n",
      "[800]\ttrain-gini:0.34499\tvalid-gini:0.288622\n",
      "[900]\ttrain-gini:0.352324\tvalid-gini:0.289237\n",
      "[1000]\ttrain-gini:0.358604\tvalid-gini:0.28931\n",
      "Stopping. Best iteration:\n",
      "[961]\ttrain-gini:0.356085\tvalid-gini:0.289506\n",
      "\n",
      " xgb kfold: 5  of  5 : \n",
      "[0]\ttrain-gini:0.207411\tvalid-gini:0.199738\n",
      "Multiple eval metrics have been passed: 'valid-gini' will be used for early stopping.\n",
      "\n",
      "Will train until valid-gini hasn't improved in 100 rounds.\n",
      "[100]\ttrain-gini:0.253263\tvalid-gini:0.240467\n",
      "[200]\ttrain-gini:0.279692\tvalid-gini:0.256202\n",
      "[300]\ttrain-gini:0.299729\tvalid-gini:0.26559\n",
      "[400]\ttrain-gini:0.312942\tvalid-gini:0.270188\n",
      "[500]\ttrain-gini:0.323723\tvalid-gini:0.27306\n",
      "[600]\ttrain-gini:0.332203\tvalid-gini:0.274379\n",
      "[700]\ttrain-gini:0.339762\tvalid-gini:0.274829\n",
      "[800]\ttrain-gini:0.347374\tvalid-gini:0.275497\n",
      "[900]\ttrain-gini:0.354344\tvalid-gini:0.276509\n",
      "[1000]\ttrain-gini:0.36064\tvalid-gini:0.276712\n",
      "[1100]\ttrain-gini:0.366761\tvalid-gini:0.27691\n",
      "[1200]\ttrain-gini:0.372622\tvalid-gini:0.277455\n",
      "[1300]\ttrain-gini:0.378588\tvalid-gini:0.277379\n",
      "Stopping. Best iteration:\n",
      "[1207]\ttrain-gini:0.373\tvalid-gini:0.277531\n",
      "\n",
      " lgb kfold: 1  of  5 : \n",
      "Training until validation scores don't improve for 100 rounds.\n",
      "[100]\tvalid_0's auc: 0.627489\tvalid_0's gini: 0.254974\n",
      "[200]\tvalid_0's auc: 0.629161\tvalid_0's gini: 0.258322\n",
      "[300]\tvalid_0's auc: 0.632234\tvalid_0's gini: 0.264468\n",
      "[400]\tvalid_0's auc: 0.635179\tvalid_0's gini: 0.270358\n",
      "[500]\tvalid_0's auc: 0.638056\tvalid_0's gini: 0.276112\n",
      "[600]\tvalid_0's auc: 0.639838\tvalid_0's gini: 0.279676\n",
      "[700]\tvalid_0's auc: 0.641011\tvalid_0's gini: 0.282023\n",
      "[800]\tvalid_0's auc: 0.64191\tvalid_0's gini: 0.283821\n",
      "[900]\tvalid_0's auc: 0.642297\tvalid_0's gini: 0.284595\n",
      "[1000]\tvalid_0's auc: 0.642377\tvalid_0's gini: 0.284754\n",
      "Early stopping, best iteration is:\n",
      "[949]\tvalid_0's auc: 0.642441\tvalid_0's gini: 0.284882\n",
      " lgb kfold: 2  of  5 : \n",
      "Training until validation scores don't improve for 100 rounds.\n",
      "[100]\tvalid_0's auc: 0.624908\tvalid_0's gini: 0.249816\n",
      "[200]\tvalid_0's auc: 0.626254\tvalid_0's gini: 0.252508\n",
      "[300]\tvalid_0's auc: 0.629478\tvalid_0's gini: 0.258957\n",
      "[400]\tvalid_0's auc: 0.633973\tvalid_0's gini: 0.267946\n",
      "[500]\tvalid_0's auc: 0.637201\tvalid_0's gini: 0.274402\n",
      "[600]\tvalid_0's auc: 0.638693\tvalid_0's gini: 0.277386\n",
      "[700]\tvalid_0's auc: 0.640021\tvalid_0's gini: 0.280042\n",
      "[800]\tvalid_0's auc: 0.640969\tvalid_0's gini: 0.281937\n",
      "[900]\tvalid_0's auc: 0.641431\tvalid_0's gini: 0.282862\n",
      "[1000]\tvalid_0's auc: 0.642047\tvalid_0's gini: 0.284095\n",
      "[1100]\tvalid_0's auc: 0.641943\tvalid_0's gini: 0.283886\n",
      "Early stopping, best iteration is:\n",
      "[1032]\tvalid_0's auc: 0.642183\tvalid_0's gini: 0.284366\n",
      " lgb kfold: 3  of  5 : \n",
      "Training until validation scores don't improve for 100 rounds.\n",
      "[100]\tvalid_0's auc: 0.626247\tvalid_0's gini: 0.252494\n",
      "[200]\tvalid_0's auc: 0.627923\tvalid_0's gini: 0.255846\n",
      "[300]\tvalid_0's auc: 0.631557\tvalid_0's gini: 0.263114\n",
      "[400]\tvalid_0's auc: 0.635775\tvalid_0's gini: 0.271551\n",
      "[500]\tvalid_0's auc: 0.639014\tvalid_0's gini: 0.278027\n",
      "[600]\tvalid_0's auc: 0.640787\tvalid_0's gini: 0.281574\n",
      "[700]\tvalid_0's auc: 0.641885\tvalid_0's gini: 0.28377\n",
      "[800]\tvalid_0's auc: 0.642738\tvalid_0's gini: 0.285477\n",
      "[900]\tvalid_0's auc: 0.64309\tvalid_0's gini: 0.286181\n",
      "[1000]\tvalid_0's auc: 0.643168\tvalid_0's gini: 0.286335\n",
      "[1100]\tvalid_0's auc: 0.642988\tvalid_0's gini: 0.285976\n",
      "Early stopping, best iteration is:\n",
      "[1024]\tvalid_0's auc: 0.643242\tvalid_0's gini: 0.286483\n",
      " lgb kfold: 4  of  5 : \n",
      "Training until validation scores don't improve for 100 rounds.\n",
      "[100]\tvalid_0's auc: 0.625083\tvalid_0's gini: 0.250164\n",
      "[200]\tvalid_0's auc: 0.627505\tvalid_0's gini: 0.255008\n",
      "[300]\tvalid_0's auc: 0.631446\tvalid_0's gini: 0.262892\n",
      "[400]\tvalid_0's auc: 0.63639\tvalid_0's gini: 0.27278\n",
      "[500]\tvalid_0's auc: 0.640659\tvalid_0's gini: 0.281319\n",
      "[600]\tvalid_0's auc: 0.643353\tvalid_0's gini: 0.286707\n",
      "[700]\tvalid_0's auc: 0.644742\tvalid_0's gini: 0.289484\n",
      "[800]\tvalid_0's auc: 0.645592\tvalid_0's gini: 0.291184\n",
      "[900]\tvalid_0's auc: 0.646061\tvalid_0's gini: 0.292122\n",
      "[1000]\tvalid_0's auc: 0.646606\tvalid_0's gini: 0.293213\n",
      "[1100]\tvalid_0's auc: 0.646654\tvalid_0's gini: 0.293309\n",
      "[1200]\tvalid_0's auc: 0.646857\tvalid_0's gini: 0.293714\n",
      "[1300]\tvalid_0's auc: 0.646825\tvalid_0's gini: 0.293649\n",
      "Early stopping, best iteration is:\n",
      "[1243]\tvalid_0's auc: 0.646977\tvalid_0's gini: 0.293953\n",
      " lgb kfold: 5  of  5 : \n",
      "Training until validation scores don't improve for 100 rounds.\n",
      "[100]\tvalid_0's auc: 0.625466\tvalid_0's gini: 0.250936\n",
      "[200]\tvalid_0's auc: 0.626501\tvalid_0's gini: 0.253002\n",
      "[300]\tvalid_0's auc: 0.628614\tvalid_0's gini: 0.257229\n",
      "[400]\tvalid_0's auc: 0.632073\tvalid_0's gini: 0.264147\n",
      "[500]\tvalid_0's auc: 0.634504\tvalid_0's gini: 0.269008\n",
      "[600]\tvalid_0's auc: 0.636063\tvalid_0's gini: 0.272126\n",
      "[700]\tvalid_0's auc: 0.637115\tvalid_0's gini: 0.27423\n",
      "[800]\tvalid_0's auc: 0.638109\tvalid_0's gini: 0.276218\n",
      "[900]\tvalid_0's auc: 0.638648\tvalid_0's gini: 0.277296\n",
      "[1000]\tvalid_0's auc: 0.638889\tvalid_0's gini: 0.277779\n",
      "[1100]\tvalid_0's auc: 0.639036\tvalid_0's gini: 0.278073\n",
      "[1200]\tvalid_0's auc: 0.639351\tvalid_0's gini: 0.278702\n",
      "[1300]\tvalid_0's auc: 0.639521\tvalid_0's gini: 0.279042\n",
      "[1400]\tvalid_0's auc: 0.639311\tvalid_0's gini: 0.278623\n"
     ]
    },
    {
     "name": "stdout",
     "output_type": "stream",
     "text": [
      "Early stopping, best iteration is:\n",
      "[1309]\tvalid_0's auc: 0.639536\tvalid_0's gini: 0.279072\n"
     ]
    },
    {
     "data": {
      "text/html": [
       "<div>\n",
       "<style>\n",
       "    .dataframe thead tr:only-child th {\n",
       "        text-align: right;\n",
       "    }\n",
       "\n",
       "    .dataframe thead th {\n",
       "        text-align: left;\n",
       "    }\n",
       "\n",
       "    .dataframe tbody tr th {\n",
       "        vertical-align: top;\n",
       "    }\n",
       "</style>\n",
       "<table border=\"1\" class=\"dataframe\">\n",
       "  <thead>\n",
       "    <tr style=\"text-align: right;\">\n",
       "      <th></th>\n",
       "      <th>id</th>\n",
       "      <th>target</th>\n",
       "    </tr>\n",
       "  </thead>\n",
       "  <tbody>\n",
       "    <tr>\n",
       "      <th>595212</th>\n",
       "      <td>0</td>\n",
       "      <td>0.028572</td>\n",
       "    </tr>\n",
       "    <tr>\n",
       "      <th>595213</th>\n",
       "      <td>1</td>\n",
       "      <td>0.024826</td>\n",
       "    </tr>\n",
       "  </tbody>\n",
       "</table>\n",
       "</div>"
      ],
      "text/plain": [
       "        id    target\n",
       "595212   0  0.028572\n",
       "595213   1  0.024826"
      ]
     },
     "execution_count": 75,
     "metadata": {},
     "output_type": "execute_result"
    }
   ],
   "source": [
    "train = train_encoded.copy()\n",
    "test = test_encoded.copy()\n",
    "\n",
    "train['ps_car_13_x_ps_ind_03'] = train['ps_car_13'] * train['ps_ind_03']\n",
    "train['ps_car_13_x_ps_reg_03'] = train['ps_car_13'] * train['ps_reg_03']\n",
    "\n",
    "test['ps_car_13_x_ps_ind_03'] = test['ps_car_13'] * test['ps_ind_03']\n",
    "test['ps_car_13_x_ps_reg_03'] = test['ps_car_13'] * test['ps_reg_03']\n",
    "\n",
    "col_to_drop = train.columns[train.columns.str.startswith('ps_calc_')]\n",
    "train = train.drop(col_to_drop, axis=1)\n",
    "test = test.drop(col_to_drop, axis=1)\n",
    "\n",
    "for c in train.select_dtypes(include=['float64']).columns:\n",
    "    train[c]=train[c].astype(np.float32)\n",
    "    test[c]=test[c].astype(np.float32)\n",
    "    \n",
    "for c in train.select_dtypes(include=['int64']).columns[2:]:\n",
    "    train[c]=train[c].astype(np.int8)\n",
    "    test[c]=test[c].astype(np.int8)  \n",
    "\n",
    "print(train.shape, test.shape)\n",
    "\n",
    "# xgb\n",
    "params = {'eta': 0.02, 'max_depth': 4, 'subsample': 0.9, 'colsample_bytree': 0.9, \n",
    "          'objective': 'binary:logistic', 'eval_metric': 'auc', 'silent': True}\n",
    "\n",
    "X = train.drop(['id', 'target'], axis=1)\n",
    "features = X.columns\n",
    "X = X.values\n",
    "y = train['target'].values\n",
    "sub = test['id'].to_frame()\n",
    "sub['target'] = 0\n",
    "\n",
    "nrounds=2000\n",
    "kfold = 5\n",
    "skf = StratifiedKFold(n_splits=kfold, random_state=0)\n",
    "for i, (train_index, test_index) in enumerate(skf.split(X, y)):\n",
    "    print(' xgb kfold: {}  of  {} : '.format(i+1, kfold))\n",
    "    X_train, X_valid = X[train_index], X[test_index]\n",
    "    y_train, y_valid = y[train_index], y[test_index]\n",
    "    d_train = xgb.DMatrix(X_train, y_train) \n",
    "    d_valid = xgb.DMatrix(X_valid, y_valid) \n",
    "    watchlist = [(d_train, 'train'), (d_valid, 'valid')]\n",
    "    xgb_model = xgb.train(params, d_train, nrounds, watchlist, early_stopping_rounds=100, \n",
    "                          feval=gini_xgb, maximize=True, verbose_eval=100)\n",
    "    sub['target'] += xgb_model.predict(xgb.DMatrix(test[features].values), \n",
    "                        ntree_limit=xgb_model.best_ntree_limit+50) / (2*kfold)\n",
    "gc.collect()\n",
    "sub.head(2)\n",
    "\n",
    "# lgb\n",
    "params = {'metric': 'auc', 'learning_rate' : 0.01, 'max_depth':10, 'max_bin':10,  'objective': 'binary', \n",
    "          'feature_fraction': 0.8,'bagging_fraction':0.9,'bagging_freq':10,  'min_data': 500}\n",
    "\n",
    "skf = StratifiedKFold(n_splits=kfold, random_state=1)\n",
    "for i, (train_index, test_index) in enumerate(skf.split(X, y)):\n",
    "    print(' lgb kfold: {}  of  {} : '.format(i+1, kfold))\n",
    "    X_train, X_eval = X[train_index], X[test_index]\n",
    "    y_train, y_eval = y[train_index], y[test_index]\n",
    "    lgb_model = lgb.train(params, lgb.Dataset(X_train, label=y_train), nrounds, \n",
    "                  lgb.Dataset(X_eval, label=y_eval), verbose_eval=100, \n",
    "                  feval=gini_lgb, early_stopping_rounds=100)\n",
    "    sub['target'] += lgb_model.predict(test[features].values, \n",
    "                        num_iteration=lgb_model.best_iteration) / (2*kfold)\n",
    "    \n",
    "sub.to_csv('~/Downloads/porto/result_xgb_meta_lgb_meta_features_onehot.csv', index=False, float_format='%.5f') \n",
    "gc.collect()\n",
    "sub.head(2)"
   ]
  },
  {
   "cell_type": "code",
   "execution_count": 7,
   "metadata": {},
   "outputs": [
    {
     "name": "stdout",
     "output_type": "stream",
     "text": [
      "(595212, 463)\n",
      "(892816, 462)\n"
     ]
    }
   ],
   "source": [
    "pfeatures = PolynomialFeatures(degree=2, interaction_only=True, include_bias=True)\n",
    "join = pd.concat([df_train, df_test], ignore_index=True)\n",
    "join.drop(join.columns[join.columns.str.startswith('ps_calc_')], axis=1, inplace=True)\n",
    "\n",
    "x_categorical = join[categorical]\n",
    "x_non_categorical = join[join.columns.difference(categorical)]\n",
    "\n",
    "new_features = x_non_categorical.drop(['id', 'target'], axis=1)\n",
    "new_matrix = pfeatures.fit_transform(new_features)\n",
    "res = pd.DataFrame(data=new_matrix, columns=pfeatures.get_feature_names())\n",
    "res['target'] = x_non_categorical['target']\n",
    "res['id'] = x_non_categorical['id']\n",
    "\n",
    "gc.collect()\n",
    "encoded = pd.get_dummies(x_categorical, columns=categorical)\n",
    "\n",
    "gc.collect()\n",
    "final = pd.concat([res, encoded], axis=1)\n",
    "\n",
    "train_encoded = final.loc[final.id.isin(df_train.id), ]\n",
    "gc.collect()\n",
    "test_encoded = final.loc[final.id.isin(df_test.id), ].drop(['target'], axis=1)\n",
    "\n",
    "print(train_encoded.shape)\n",
    "print(test_encoded.shape)"
   ]
  },
  {
   "cell_type": "code",
   "execution_count": 8,
   "metadata": {},
   "outputs": [
    {
     "name": "stderr",
     "output_type": "stream",
     "text": [
      "C:\\Users\\pedro.castanha\\AppData\\Local\\Continuum\\Anaconda3\\lib\\site-packages\\pandas\\core\\generic.py:2999: SettingWithCopyWarning: \n",
      "A value is trying to be set on a copy of a slice from a DataFrame.\n",
      "Try using .loc[row_indexer,col_indexer] = value instead\n",
      "\n",
      "See the caveats in the documentation: http://pandas.pydata.org/pandas-docs/stable/indexing.html#indexing-view-versus-copy\n",
      "  self[name] = value\n"
     ]
    }
   ],
   "source": [
    "train_encoded.target = train_encoded.target.astype(np.int8)"
   ]
  },
  {
   "cell_type": "code",
   "execution_count": 95,
   "metadata": {},
   "outputs": [
    {
     "data": {
      "text/plain": [
       "(595212, 277)"
      ]
     },
     "execution_count": 95,
     "metadata": {},
     "output_type": "execute_result"
    }
   ],
   "source": [
    "x_tmp = df_train.drop(categorical, axis=1)\n",
    "x_tmp.drop(x_tmp.columns[x_tmp.columns.str.startswith('ps_calc_')], axis=1, inplace=True)\n",
    "x_tmp.drop(['id', 'target'], axis=1, inplace=True)\n",
    "\n",
    "new_matrix = pfeatures.fit_transform(x_tmp)\n",
    "new_matrix.shape"
   ]
  },
  {
   "cell_type": "code",
   "execution_count": 124,
   "metadata": {
    "collapsed": true
   },
   "outputs": [],
   "source": [
    "res = pd.DataFrame(data=new_matrix, columns=pfeatures.get_feature_names())\n",
    "res['target'] = df_train['target']\n",
    "res['id'] = df_train['id']"
   ]
  },
  {
   "cell_type": "code",
   "execution_count": 10,
   "metadata": {},
   "outputs": [
    {
     "name": "stdout",
     "output_type": "stream",
     "text": [
      "Running Lasso..\n",
      "Completed!\n",
      "Total features selected are: 360\n",
      "Features Selected: ['x0' 'x2' 'x5' 'x7' 'x10' 'x11' 'x12' 'x14' 'x15' 'x18' 'x20' 'x21' 'x22'\n",
      " 'x0 x2' 'x0 x3' 'x0 x4' 'x0 x5' 'x0 x6' 'x0 x8' 'x0 x11' 'x0 x12' 'x0 x14'\n",
      " 'x0 x15' 'x0 x16' 'x0 x18' 'x0 x19' 'x0 x20' 'x0 x21' 'x0 x22' 'x1 x2'\n",
      " 'x1 x3' 'x1 x4' 'x1 x5' 'x1 x6' 'x1 x7' 'x1 x8' 'x1 x11' 'x1 x12' 'x1 x13'\n",
      " 'x1 x14' 'x1 x16' 'x1 x19' 'x1 x20' 'x2 x3' 'x2 x4' 'x2 x5' 'x2 x6'\n",
      " 'x2 x7' 'x2 x8' 'x2 x10' 'x2 x11' 'x2 x12' 'x2 x13' 'x2 x14' 'x2 x15'\n",
      " 'x2 x16' 'x2 x18' 'x2 x19' 'x2 x21' 'x2 x22' 'x3 x4' 'x3 x5' 'x3 x6'\n",
      " 'x3 x7' 'x3 x8' 'x3 x11' 'x3 x12' 'x3 x13' 'x3 x14' 'x3 x16' 'x3 x17'\n",
      " 'x3 x18' 'x3 x19' 'x3 x21' 'x3 x22' 'x4 x5' 'x4 x6' 'x4 x7' 'x4 x8'\n",
      " 'x4 x11' 'x4 x12' 'x4 x13' 'x4 x14' 'x4 x17' 'x4 x18' 'x4 x19' 'x4 x20'\n",
      " 'x4 x21' 'x4 x22' 'x5 x6' 'x5 x7' 'x5 x9' 'x5 x10' 'x5 x11' 'x5 x12'\n",
      " 'x5 x13' 'x5 x14' 'x5 x16' 'x5 x17' 'x5 x18' 'x5 x19' 'x5 x20' 'x5 x21'\n",
      " 'x5 x22' 'x6 x8' 'x6 x9' 'x6 x11' 'x6 x12' 'x6 x13' 'x6 x14' 'x6 x16'\n",
      " 'x6 x17' 'x6 x18' 'x6 x19' 'x6 x20' 'x6 x21' 'x6 x22' 'x7 x11' 'x7 x12'\n",
      " 'x7 x15' 'x7 x16' 'x7 x17' 'x7 x18' 'x7 x19' 'x7 x20' 'x7 x21' 'x7 x22'\n",
      " 'x8 x11' 'x8 x12' 'x8 x13' 'x8 x16' 'x8 x18' 'x8 x19' 'x8 x21' 'x8 x22'\n",
      " 'x9 x13' 'x9 x14' 'x9 x16' 'x9 x17' 'x9 x19' 'x9 x20' 'x9 x21' 'x10 x11'\n",
      " 'x10 x12' 'x10 x16' 'x10 x18' 'x10 x19' 'x10 x20' 'x10 x22' 'x11 x12'\n",
      " 'x11 x13' 'x11 x14' 'x11 x16' 'x11 x17' 'x11 x18' 'x11 x19' 'x11 x20'\n",
      " 'x11 x21' 'x12 x13' 'x12 x14' 'x12 x16' 'x12 x17' 'x12 x18' 'x12 x19'\n",
      " 'x12 x21' 'x12 x22' 'x13 x14' 'x13 x16' 'x13 x18' 'x13 x19' 'x13 x20'\n",
      " 'x13 x21' 'x14 x16' 'x14 x17' 'x14 x18' 'x14 x21' 'x14 x22' 'x15 x17'\n",
      " 'x15 x20' 'x15 x21' 'x15 x22' 'x16 x17' 'x16 x18' 'x16 x19' 'x16 x20'\n",
      " 'x16 x21' 'x16 x22' 'x17 x20' 'x17 x21' 'x17 x22' 'x18 x20' 'x18 x21'\n",
      " 'x18 x22' 'x19 x20' 'x19 x21' 'x19 x22' 'x20 x21' 'x20 x22' 'x21 x22'\n",
      " 'ps_ind_02_cat_-1' 'ps_ind_02_cat_2' 'ps_ind_02_cat_3' 'ps_ind_02_cat_4'\n",
      " 'ps_ind_04_cat_-1' 'ps_ind_04_cat_0' 'ps_ind_05_cat_-1' 'ps_ind_05_cat_0'\n",
      " 'ps_ind_05_cat_2' 'ps_ind_05_cat_3' 'ps_ind_05_cat_4' 'ps_ind_05_cat_6'\n",
      " 'ps_car_01_cat_-1' 'ps_car_01_cat_0' 'ps_car_01_cat_1' 'ps_car_01_cat_2'\n",
      " 'ps_car_01_cat_3' 'ps_car_01_cat_4' 'ps_car_01_cat_5' 'ps_car_01_cat_7'\n",
      " 'ps_car_01_cat_8' 'ps_car_01_cat_9' 'ps_car_01_cat_10' 'ps_car_01_cat_11'\n",
      " 'ps_car_02_cat_-1' 'ps_car_02_cat_0' 'ps_car_03_cat_-1' 'ps_car_03_cat_1'\n",
      " 'ps_car_04_cat_0' 'ps_car_04_cat_2' 'ps_car_04_cat_3' 'ps_car_04_cat_4'\n",
      " 'ps_car_04_cat_5' 'ps_car_04_cat_6' 'ps_car_04_cat_7' 'ps_car_04_cat_8'\n",
      " 'ps_car_04_cat_9' 'ps_car_05_cat_-1' 'ps_car_05_cat_0' 'ps_car_06_cat_0'\n",
      " 'ps_car_06_cat_1' 'ps_car_06_cat_2' 'ps_car_06_cat_3' 'ps_car_06_cat_4'\n",
      " 'ps_car_06_cat_5' 'ps_car_06_cat_6' 'ps_car_06_cat_7' 'ps_car_06_cat_8'\n",
      " 'ps_car_06_cat_10' 'ps_car_06_cat_11' 'ps_car_06_cat_12'\n",
      " 'ps_car_06_cat_13' 'ps_car_06_cat_14' 'ps_car_06_cat_15'\n",
      " 'ps_car_06_cat_16' 'ps_car_06_cat_17' 'ps_car_07_cat_-1' 'ps_car_07_cat_0'\n",
      " 'ps_car_08_cat_0' 'ps_car_08_cat_1' 'ps_car_09_cat_-1' 'ps_car_09_cat_0'\n",
      " 'ps_car_09_cat_1' 'ps_car_09_cat_3' 'ps_car_09_cat_4' 'ps_car_10_cat_0'\n",
      " 'ps_car_10_cat_2' 'ps_car_11_cat_1' 'ps_car_11_cat_2' 'ps_car_11_cat_3'\n",
      " 'ps_car_11_cat_5' 'ps_car_11_cat_6' 'ps_car_11_cat_7' 'ps_car_11_cat_8'\n",
      " 'ps_car_11_cat_9' 'ps_car_11_cat_10' 'ps_car_11_cat_12' 'ps_car_11_cat_13'\n",
      " 'ps_car_11_cat_14' 'ps_car_11_cat_15' 'ps_car_11_cat_16'\n",
      " 'ps_car_11_cat_17' 'ps_car_11_cat_18' 'ps_car_11_cat_20'\n",
      " 'ps_car_11_cat_21' 'ps_car_11_cat_22' 'ps_car_11_cat_23'\n",
      " 'ps_car_11_cat_24' 'ps_car_11_cat_25' 'ps_car_11_cat_26'\n",
      " 'ps_car_11_cat_27' 'ps_car_11_cat_28' 'ps_car_11_cat_29'\n",
      " 'ps_car_11_cat_30' 'ps_car_11_cat_31' 'ps_car_11_cat_33'\n",
      " 'ps_car_11_cat_34' 'ps_car_11_cat_35' 'ps_car_11_cat_36'\n",
      " 'ps_car_11_cat_37' 'ps_car_11_cat_38' 'ps_car_11_cat_39'\n",
      " 'ps_car_11_cat_40' 'ps_car_11_cat_41' 'ps_car_11_cat_42'\n",
      " 'ps_car_11_cat_43' 'ps_car_11_cat_44' 'ps_car_11_cat_45'\n",
      " 'ps_car_11_cat_46' 'ps_car_11_cat_47' 'ps_car_11_cat_48'\n",
      " 'ps_car_11_cat_49' 'ps_car_11_cat_50' 'ps_car_11_cat_52'\n",
      " 'ps_car_11_cat_53' 'ps_car_11_cat_54' 'ps_car_11_cat_56'\n",
      " 'ps_car_11_cat_57' 'ps_car_11_cat_58' 'ps_car_11_cat_59'\n",
      " 'ps_car_11_cat_60' 'ps_car_11_cat_61' 'ps_car_11_cat_62'\n",
      " 'ps_car_11_cat_63' 'ps_car_11_cat_64' 'ps_car_11_cat_65'\n",
      " 'ps_car_11_cat_66' 'ps_car_11_cat_67' 'ps_car_11_cat_69'\n",
      " 'ps_car_11_cat_71' 'ps_car_11_cat_72' 'ps_car_11_cat_73'\n",
      " 'ps_car_11_cat_74' 'ps_car_11_cat_75' 'ps_car_11_cat_76'\n",
      " 'ps_car_11_cat_77' 'ps_car_11_cat_78' 'ps_car_11_cat_79'\n",
      " 'ps_car_11_cat_80' 'ps_car_11_cat_81' 'ps_car_11_cat_82'\n",
      " 'ps_car_11_cat_83' 'ps_car_11_cat_85' 'ps_car_11_cat_86'\n",
      " 'ps_car_11_cat_87' 'ps_car_11_cat_88' 'ps_car_11_cat_89'\n",
      " 'ps_car_11_cat_90' 'ps_car_11_cat_91' 'ps_car_11_cat_92'\n",
      " 'ps_car_11_cat_93' 'ps_car_11_cat_94' 'ps_car_11_cat_95'\n",
      " 'ps_car_11_cat_97' 'ps_car_11_cat_98' 'ps_car_11_cat_99'\n",
      " 'ps_car_11_cat_100' 'ps_car_11_cat_101' 'ps_car_11_cat_102'\n",
      " 'ps_car_11_cat_103' 'ps_car_11_cat_104']\n"
     ]
    }
   ],
   "source": [
    "res_cols = [c for c in train_encoded.columns if c not in ['id','target']]\n",
    "feats = feature_selection(train_encoded, res_cols)"
   ]
  },
  {
   "cell_type": "code",
   "execution_count": 13,
   "metadata": {
    "collapsed": true
   },
   "outputs": [],
   "source": [
    "feats = ['x0', 'x2', 'x5', 'x7', 'x10', 'x11', 'x12', 'x14', 'x15', 'x18', 'x20', 'x21', 'x22',\n",
    " 'x0 x2', 'x0 x3', 'x0 x4', 'x0 x5', 'x0 x6', 'x0 x8', 'x0 x11', 'x0 x12', 'x0 x14',\n",
    " 'x0 x15', 'x0 x16', 'x0 x18', 'x0 x19', 'x0 x20', 'x0 x21', 'x0 x22', 'x1 x2',\n",
    " 'x1 x3', 'x1 x4', 'x1 x5', 'x1 x6', 'x1 x7', 'x1 x8', 'x1 x11', 'x1 x12', 'x1 x13',\n",
    " 'x1 x14', 'x1 x16', 'x1 x19', 'x1 x20', 'x2 x3', 'x2 x4', 'x2 x5', 'x2 x6',\n",
    " 'x2 x7', 'x2 x8', 'x2 x10', 'x2 x11', 'x2 x12', 'x2 x13', 'x2 x14', 'x2 x15',\n",
    " 'x2 x16', 'x2 x18', 'x2 x19', 'x2 x21', 'x2 x22', 'x3 x4', 'x3 x5', 'x3 x6',\n",
    " 'x3 x7', 'x3 x8', 'x3 x11', 'x3 x12', 'x3 x13', 'x3 x14', 'x3 x16', 'x3 x17',\n",
    " 'x3 x18', 'x3 x19', 'x3 x21', 'x3 x22', 'x4 x5', 'x4 x6', 'x4 x7', 'x4 x8',\n",
    " 'x4 x11', 'x4 x12', 'x4 x13', 'x4 x14', 'x4 x17', 'x4 x18', 'x4 x19', 'x4 x20',\n",
    " 'x4 x21', 'x4 x22', 'x5 x6', 'x5 x7', 'x5 x9', 'x5 x10', 'x5 x11', 'x5 x12',\n",
    " 'x5 x13', 'x5 x14', 'x5 x16', 'x5 x17', 'x5 x18', 'x5 x19', 'x5 x20', 'x5 x21',\n",
    " 'x5 x22', 'x6 x8', 'x6 x9', 'x6 x11', 'x6 x12', 'x6 x13', 'x6 x14', 'x6 x16',\n",
    " 'x6 x17', 'x6 x18', 'x6 x19', 'x6 x20', 'x6 x21', 'x6 x22', 'x7 x11', 'x7 x12',\n",
    " 'x7 x15', 'x7 x16', 'x7 x17', 'x7 x18', 'x7 x19', 'x7 x20', 'x7 x21', 'x7 x22',\n",
    " 'x8 x11', 'x8 x12', 'x8 x13', 'x8 x16', 'x8 x18', 'x8 x19', 'x8 x21', 'x8 x22',\n",
    " 'x9 x13', 'x9 x14', 'x9 x16', 'x9 x17', 'x9 x19', 'x9 x20', 'x9 x21', 'x10 x11',\n",
    " 'x10 x12', 'x10 x16', 'x10 x18', 'x10 x19', 'x10 x20', 'x10 x22', 'x11 x12',\n",
    " 'x11 x13', 'x11 x14', 'x11 x16', 'x11 x17', 'x11 x18', 'x11 x19', 'x11 x20',\n",
    " 'x11 x21', 'x12 x13', 'x12 x14', 'x12 x16', 'x12 x17', 'x12 x18', 'x12 x19',\n",
    " 'x12 x21', 'x12 x22', 'x13 x14', 'x13 x16', 'x13 x18', 'x13 x19', 'x13 x20',\n",
    " 'x13 x21', 'x14 x16', 'x14 x17', 'x14 x18', 'x14 x21', 'x14 x22', 'x15 x17',\n",
    " 'x15 x20', 'x15 x21', 'x15 x22', 'x16 x17', 'x16 x18', 'x16 x19', 'x16 x20',\n",
    " 'x16 x21', 'x16 x22', 'x17 x20', 'x17 x21', 'x17 x22', 'x18 x20', 'x18 x21',\n",
    " 'x18 x22', 'x19 x20', 'x19 x21', 'x19 x22', 'x20 x21', 'x20 x22', 'x21 x22',\n",
    " 'ps_ind_02_cat_-1', 'ps_ind_02_cat_2', 'ps_ind_02_cat_3', 'ps_ind_02_cat_4',\n",
    " 'ps_ind_04_cat_-1', 'ps_ind_04_cat_0', 'ps_ind_05_cat_-1', 'ps_ind_05_cat_0',\n",
    " 'ps_ind_05_cat_2','ps_ind_05_cat_3', 'ps_ind_05_cat_4', 'ps_ind_05_cat_6',\n",
    " 'ps_car_01_cat_-1', 'ps_car_01_cat_0', 'ps_car_01_cat_1', 'ps_car_01_cat_2',\n",
    " 'ps_car_01_cat_3', 'ps_car_01_cat_4', 'ps_car_01_cat_5', 'ps_car_01_cat_7',\n",
    " 'ps_car_01_cat_8', 'ps_car_01_cat_9', 'ps_car_01_cat_10', 'ps_car_01_cat_11',\n",
    " 'ps_car_02_cat_-1', 'ps_car_02_cat_0', 'ps_car_03_cat_-1', 'ps_car_03_cat_1',\n",
    " 'ps_car_04_cat_0', 'ps_car_04_cat_2', 'ps_car_04_cat_3', 'ps_car_04_cat_4',\n",
    " 'ps_car_04_cat_5', 'ps_car_04_cat_6', 'ps_car_04_cat_7', 'ps_car_04_cat_8',\n",
    " 'ps_car_04_cat_9', 'ps_car_05_cat_-1', 'ps_car_05_cat_0', 'ps_car_06_cat_0',\n",
    " 'ps_car_06_cat_1', 'ps_car_06_cat_2', 'ps_car_06_cat_3', 'ps_car_06_cat_4',\n",
    " 'ps_car_06_cat_5', 'ps_car_06_cat_6', 'ps_car_06_cat_7', 'ps_car_06_cat_8',\n",
    " 'ps_car_06_cat_10', 'ps_car_06_cat_11', 'ps_car_06_cat_12',\n",
    " 'ps_car_06_cat_13', 'ps_car_06_cat_14', 'ps_car_06_cat_15',\n",
    " 'ps_car_06_cat_16', 'ps_car_06_cat_17', 'ps_car_07_cat_-1', 'ps_car_07_cat_0',\n",
    " 'ps_car_08_cat_0', 'ps_car_08_cat_1', 'ps_car_09_cat_-1', 'ps_car_09_cat_0',\n",
    " 'ps_car_09_cat_1', 'ps_car_09_cat_3', 'ps_car_09_cat_4', 'ps_car_10_cat_0',\n",
    " 'ps_car_10_cat_2', 'ps_car_11_cat_1', 'ps_car_11_cat_2', 'ps_car_11_cat_3',\n",
    " 'ps_car_11_cat_5', 'ps_car_11_cat_6', 'ps_car_11_cat_7', 'ps_car_11_cat_8',\n",
    " 'ps_car_11_cat_9', 'ps_car_11_cat_10', 'ps_car_11_cat_12', 'ps_car_11_cat_13',\n",
    " 'ps_car_11_cat_14', 'ps_car_11_cat_15', 'ps_car_11_cat_16',\n",
    " 'ps_car_11_cat_17', 'ps_car_11_cat_18', 'ps_car_11_cat_20',\n",
    " 'ps_car_11_cat_21', 'ps_car_11_cat_22', 'ps_car_11_cat_23',\n",
    " 'ps_car_11_cat_24', 'ps_car_11_cat_25', 'ps_car_11_cat_26',\n",
    " 'ps_car_11_cat_27', 'ps_car_11_cat_28', 'ps_car_11_cat_29',\n",
    " 'ps_car_11_cat_30', 'ps_car_11_cat_31', 'ps_car_11_cat_33',\n",
    " 'ps_car_11_cat_34', 'ps_car_11_cat_35', 'ps_car_11_cat_36',\n",
    " 'ps_car_11_cat_37', 'ps_car_11_cat_38', 'ps_car_11_cat_39',\n",
    " 'ps_car_11_cat_40', 'ps_car_11_cat_41', 'ps_car_11_cat_42',\n",
    " 'ps_car_11_cat_43', 'ps_car_11_cat_44', 'ps_car_11_cat_45',\n",
    " 'ps_car_11_cat_46', 'ps_car_11_cat_47', 'ps_car_11_cat_48',\n",
    " 'ps_car_11_cat_49', 'ps_car_11_cat_50', 'ps_car_11_cat_52',\n",
    " 'ps_car_11_cat_53', 'ps_car_11_cat_54', 'ps_car_11_cat_56',\n",
    " 'ps_car_11_cat_57', 'ps_car_11_cat_58', 'ps_car_11_cat_59',\n",
    " 'ps_car_11_cat_60', 'ps_car_11_cat_61', 'ps_car_11_cat_62',\n",
    " 'ps_car_11_cat_63', 'ps_car_11_cat_64', 'ps_car_11_cat_65',\n",
    " 'ps_car_11_cat_66', 'ps_car_11_cat_67', 'ps_car_11_cat_69',\n",
    " 'ps_car_11_cat_71', 'ps_car_11_cat_72', 'ps_car_11_cat_73',\n",
    " 'ps_car_11_cat_74', 'ps_car_11_cat_75', 'ps_car_11_cat_76',\n",
    " 'ps_car_11_cat_77', 'ps_car_11_cat_78', 'ps_car_11_cat_79',\n",
    " 'ps_car_11_cat_80', 'ps_car_11_cat_81', 'ps_car_11_cat_82',\n",
    " 'ps_car_11_cat_83', 'ps_car_11_cat_85', 'ps_car_11_cat_86',\n",
    " 'ps_car_11_cat_87', 'ps_car_11_cat_88', 'ps_car_11_cat_89',\n",
    " 'ps_car_11_cat_90', 'ps_car_11_cat_91', 'ps_car_11_cat_92',\n",
    " 'ps_car_11_cat_93', 'ps_car_11_cat_94', 'ps_car_11_cat_95',\n",
    " 'ps_car_11_cat_97', 'ps_car_11_cat_98', 'ps_car_11_cat_99',\n",
    " 'ps_car_11_cat_100', 'ps_car_11_cat_101', 'ps_car_11_cat_102',\n",
    " 'ps_car_11_cat_103', 'ps_car_11_cat_104']"
   ]
  },
  {
   "cell_type": "code",
   "execution_count": 131,
   "metadata": {},
   "outputs": [
    {
     "data": {
      "text/plain": [
       "(892816, 277)"
      ]
     },
     "execution_count": 131,
     "metadata": {},
     "output_type": "execute_result"
    }
   ],
   "source": [
    "x_test = df_test.drop(categorical, axis=1)\n",
    "x_test.drop(x_test.columns[x_test.columns.str.startswith('ps_calc_')], axis=1, inplace=True)\n",
    "x_test.drop(['id'], axis=1, inplace=True)\n",
    "\n",
    "new_matrix_test = pfeatures.transform(x_test)\n",
    "new_matrix_test.shape"
   ]
  },
  {
   "cell_type": "code",
   "execution_count": 132,
   "metadata": {
    "collapsed": true
   },
   "outputs": [],
   "source": [
    "res_test = pd.DataFrame(data=new_matrix_test, columns=pfeatures.get_feature_names())\n",
    "res_test['id'] = df_test['id']"
   ]
  },
  {
   "cell_type": "code",
   "execution_count": 14,
   "metadata": {},
   "outputs": [
    {
     "name": "stdout",
     "output_type": "stream",
     "text": [
      "(595212, 362)\n",
      "(892816, 361)\n"
     ]
    }
   ],
   "source": [
    "train = train_encoded[feats].copy()\n",
    "test = test_encoded[feats].copy()\n",
    "\n",
    "train['id'] = train_encoded['id']\n",
    "train['target'] = train_encoded['target']\n",
    "test['id'] = test_encoded['id']\n",
    "\n",
    "print(train.shape)\n",
    "print(test.shape)"
   ]
  },
  {
   "cell_type": "code",
   "execution_count": 15,
   "metadata": {},
   "outputs": [
    {
     "name": "stdout",
     "output_type": "stream",
     "text": [
      "Changing dtypes...\n",
      "(595212, 362) (892816, 361)\n",
      " xgb kfold: 1  of  5 : \n",
      "[0]\ttrain-gini:0.188512\tvalid-gini:0.188631\n",
      "Multiple eval metrics have been passed: 'valid-gini' will be used for early stopping.\n",
      "\n",
      "Will train until valid-gini hasn't improved in 100 rounds.\n",
      "[100]\ttrain-gini:0.258476\tvalid-gini:0.247011\n",
      "[200]\ttrain-gini:0.287071\tvalid-gini:0.263548\n",
      "[300]\ttrain-gini:0.307588\tvalid-gini:0.272301\n",
      "[400]\ttrain-gini:0.322812\tvalid-gini:0.277016\n",
      "[500]\ttrain-gini:0.335193\tvalid-gini:0.279021\n",
      "[600]\ttrain-gini:0.34612\tvalid-gini:0.280801\n",
      "[700]\ttrain-gini:0.356296\tvalid-gini:0.281567\n",
      "[800]\ttrain-gini:0.36488\tvalid-gini:0.282048\n",
      "[900]\ttrain-gini:0.373225\tvalid-gini:0.282125\n",
      "Stopping. Best iteration:\n",
      "[820]\ttrain-gini:0.366648\tvalid-gini:0.282316\n",
      "\n",
      " xgb kfold: 2  of  5 : \n",
      "[0]\ttrain-gini:0.190324\tvalid-gini:0.181326\n",
      "Multiple eval metrics have been passed: 'valid-gini' will be used for early stopping.\n",
      "\n",
      "Will train until valid-gini hasn't improved in 100 rounds.\n",
      "[100]\ttrain-gini:0.25826\tvalid-gini:0.241141\n",
      "[200]\ttrain-gini:0.285792\tvalid-gini:0.263608\n",
      "[300]\ttrain-gini:0.306631\tvalid-gini:0.274712\n",
      "[400]\ttrain-gini:0.320344\tvalid-gini:0.279198\n",
      "[500]\ttrain-gini:0.332916\tvalid-gini:0.281456\n",
      "[600]\ttrain-gini:0.343388\tvalid-gini:0.283473\n",
      "[700]\ttrain-gini:0.352723\tvalid-gini:0.284691\n",
      "[800]\ttrain-gini:0.362405\tvalid-gini:0.285691\n",
      "[900]\ttrain-gini:0.370814\tvalid-gini:0.285984\n",
      "[1000]\ttrain-gini:0.37848\tvalid-gini:0.286471\n",
      "[1100]\ttrain-gini:0.385045\tvalid-gini:0.28663\n",
      "[1200]\ttrain-gini:0.392842\tvalid-gini:0.286815\n",
      "Stopping. Best iteration:\n",
      "[1164]\ttrain-gini:0.389848\tvalid-gini:0.286897\n",
      "\n",
      " xgb kfold: 3  of  5 : \n",
      "[0]\ttrain-gini:0.18846\tvalid-gini:0.176591\n",
      "Multiple eval metrics have been passed: 'valid-gini' will be used for early stopping.\n",
      "\n",
      "Will train until valid-gini hasn't improved in 100 rounds.\n",
      "[100]\ttrain-gini:0.260125\tvalid-gini:0.240518\n",
      "[200]\ttrain-gini:0.286626\tvalid-gini:0.260735\n",
      "[300]\ttrain-gini:0.307205\tvalid-gini:0.272215\n",
      "[400]\ttrain-gini:0.322282\tvalid-gini:0.276476\n",
      "[500]\ttrain-gini:0.335213\tvalid-gini:0.279436\n",
      "[600]\ttrain-gini:0.346326\tvalid-gini:0.28025\n",
      "[700]\ttrain-gini:0.356209\tvalid-gini:0.280756\n",
      "[800]\ttrain-gini:0.365477\tvalid-gini:0.281669\n",
      "[900]\ttrain-gini:0.373325\tvalid-gini:0.281823\n",
      "[1000]\ttrain-gini:0.381877\tvalid-gini:0.281792\n",
      "Stopping. Best iteration:\n",
      "[943]\ttrain-gini:0.377104\tvalid-gini:0.28202\n",
      "\n",
      " xgb kfold: 4  of  5 : \n",
      "[0]\ttrain-gini:0.208931\tvalid-gini:0.199095\n",
      "Multiple eval metrics have been passed: 'valid-gini' will be used for early stopping.\n",
      "\n",
      "Will train until valid-gini hasn't improved in 100 rounds.\n",
      "[100]\ttrain-gini:0.258872\tvalid-gini:0.243425\n",
      "[200]\ttrain-gini:0.284977\tvalid-gini:0.263705\n",
      "[300]\ttrain-gini:0.305217\tvalid-gini:0.277473\n",
      "[400]\ttrain-gini:0.319399\tvalid-gini:0.282553\n",
      "[500]\ttrain-gini:0.331509\tvalid-gini:0.28536\n",
      "[600]\ttrain-gini:0.342276\tvalid-gini:0.287194\n",
      "[700]\ttrain-gini:0.351183\tvalid-gini:0.288643\n",
      "[800]\ttrain-gini:0.359253\tvalid-gini:0.289302\n",
      "[900]\ttrain-gini:0.367137\tvalid-gini:0.289522\n",
      "[1000]\ttrain-gini:0.375376\tvalid-gini:0.290296\n",
      "[1100]\ttrain-gini:0.383335\tvalid-gini:0.290417\n",
      "Stopping. Best iteration:\n",
      "[1058]\ttrain-gini:0.379846\tvalid-gini:0.290567\n",
      "\n",
      " xgb kfold: 5  of  5 : \n",
      "[0]\ttrain-gini:0.206571\tvalid-gini:0.189527\n",
      "Multiple eval metrics have been passed: 'valid-gini' will be used for early stopping.\n",
      "\n",
      "Will train until valid-gini hasn't improved in 100 rounds.\n",
      "[100]\ttrain-gini:0.259262\tvalid-gini:0.240503\n",
      "[200]\ttrain-gini:0.287952\tvalid-gini:0.257019\n",
      "[300]\ttrain-gini:0.307994\tvalid-gini:0.266566\n",
      "[400]\ttrain-gini:0.32388\tvalid-gini:0.271568\n",
      "[500]\ttrain-gini:0.336878\tvalid-gini:0.273369\n",
      "[600]\ttrain-gini:0.347189\tvalid-gini:0.274356\n",
      "[700]\ttrain-gini:0.356557\tvalid-gini:0.274691\n",
      "[800]\ttrain-gini:0.365377\tvalid-gini:0.275187\n",
      "[900]\ttrain-gini:0.373493\tvalid-gini:0.27591\n",
      "[1000]\ttrain-gini:0.380964\tvalid-gini:0.276388\n",
      "[1100]\ttrain-gini:0.387945\tvalid-gini:0.276734\n",
      "[1200]\ttrain-gini:0.395331\tvalid-gini:0.276896\n",
      "Stopping. Best iteration:\n",
      "[1198]\ttrain-gini:0.395216\tvalid-gini:0.276948\n",
      "\n",
      " lgb kfold: 1  of  5 : \n",
      "Training until validation scores don't improve for 100 rounds.\n",
      "[100]\tvalid_0's auc: 0.627672\tvalid_0's gini: 0.255342\n",
      "[200]\tvalid_0's auc: 0.630455\tvalid_0's gini: 0.260908\n",
      "[300]\tvalid_0's auc: 0.632919\tvalid_0's gini: 0.265838\n",
      "[400]\tvalid_0's auc: 0.635726\tvalid_0's gini: 0.271453\n",
      "[500]\tvalid_0's auc: 0.637766\tvalid_0's gini: 0.275532\n",
      "[600]\tvalid_0's auc: 0.639058\tvalid_0's gini: 0.278116\n",
      "[700]\tvalid_0's auc: 0.639758\tvalid_0's gini: 0.279515\n",
      "[800]\tvalid_0's auc: 0.640263\tvalid_0's gini: 0.280527\n",
      "[900]\tvalid_0's auc: 0.640595\tvalid_0's gini: 0.281189\n",
      "[1000]\tvalid_0's auc: 0.640665\tvalid_0's gini: 0.281331\n",
      "[1100]\tvalid_0's auc: 0.640741\tvalid_0's gini: 0.281481\n",
      "Early stopping, best iteration is:\n",
      "[1018]\tvalid_0's auc: 0.640785\tvalid_0's gini: 0.28157\n",
      " lgb kfold: 2  of  5 : \n",
      "Training until validation scores don't improve for 100 rounds.\n",
      "[100]\tvalid_0's auc: 0.625912\tvalid_0's gini: 0.251823\n",
      "[200]\tvalid_0's auc: 0.628223\tvalid_0's gini: 0.256446\n",
      "[300]\tvalid_0's auc: 0.632648\tvalid_0's gini: 0.265295\n",
      "[400]\tvalid_0's auc: 0.636314\tvalid_0's gini: 0.272629\n",
      "[500]\tvalid_0's auc: 0.638982\tvalid_0's gini: 0.277964\n",
      "[600]\tvalid_0's auc: 0.640576\tvalid_0's gini: 0.281152\n",
      "[700]\tvalid_0's auc: 0.641543\tvalid_0's gini: 0.283086\n",
      "[800]\tvalid_0's auc: 0.642319\tvalid_0's gini: 0.284637\n",
      "[900]\tvalid_0's auc: 0.642561\tvalid_0's gini: 0.285121\n",
      "[1000]\tvalid_0's auc: 0.643258\tvalid_0's gini: 0.286516\n",
      "[1100]\tvalid_0's auc: 0.643434\tvalid_0's gini: 0.286868\n",
      "[1200]\tvalid_0's auc: 0.64331\tvalid_0's gini: 0.286621\n",
      "Early stopping, best iteration is:\n",
      "[1158]\tvalid_0's auc: 0.643534\tvalid_0's gini: 0.287067\n",
      " lgb kfold: 3  of  5 : \n",
      "Training until validation scores don't improve for 100 rounds.\n",
      "[100]\tvalid_0's auc: 0.624011\tvalid_0's gini: 0.24802\n",
      "[200]\tvalid_0's auc: 0.626015\tvalid_0's gini: 0.252029\n",
      "[300]\tvalid_0's auc: 0.62981\tvalid_0's gini: 0.25962\n",
      "[400]\tvalid_0's auc: 0.634654\tvalid_0's gini: 0.269308\n",
      "[500]\tvalid_0's auc: 0.637839\tvalid_0's gini: 0.275678\n",
      "[600]\tvalid_0's auc: 0.640037\tvalid_0's gini: 0.280075\n",
      "[700]\tvalid_0's auc: 0.640947\tvalid_0's gini: 0.281893\n",
      "[800]\tvalid_0's auc: 0.64161\tvalid_0's gini: 0.283219\n",
      "[900]\tvalid_0's auc: 0.64207\tvalid_0's gini: 0.28414\n",
      "[1000]\tvalid_0's auc: 0.642192\tvalid_0's gini: 0.284385\n",
      "[1100]\tvalid_0's auc: 0.64228\tvalid_0's gini: 0.284559\n",
      "Early stopping, best iteration is:\n",
      "[1050]\tvalid_0's auc: 0.642415\tvalid_0's gini: 0.28483\n",
      " lgb kfold: 4  of  5 : \n",
      "Training until validation scores don't improve for 100 rounds.\n",
      "[100]\tvalid_0's auc: 0.625607\tvalid_0's gini: 0.25121\n",
      "[200]\tvalid_0's auc: 0.629164\tvalid_0's gini: 0.258328\n",
      "[300]\tvalid_0's auc: 0.632415\tvalid_0's gini: 0.26483\n",
      "[400]\tvalid_0's auc: 0.637446\tvalid_0's gini: 0.274893\n",
      "[500]\tvalid_0's auc: 0.641541\tvalid_0's gini: 0.283082\n",
      "[600]\tvalid_0's auc: 0.643817\tvalid_0's gini: 0.287635\n",
      "[700]\tvalid_0's auc: 0.644784\tvalid_0's gini: 0.289568\n",
      "[800]\tvalid_0's auc: 0.645898\tvalid_0's gini: 0.291796\n",
      "[900]\tvalid_0's auc: 0.645868\tvalid_0's gini: 0.291736\n",
      "[1000]\tvalid_0's auc: 0.646247\tvalid_0's gini: 0.292494\n",
      "[1100]\tvalid_0's auc: 0.646313\tvalid_0's gini: 0.292626\n",
      "Early stopping, best iteration is:\n",
      "[1045]\tvalid_0's auc: 0.646422\tvalid_0's gini: 0.292844\n",
      " lgb kfold: 5  of  5 : \n",
      "Training until validation scores don't improve for 100 rounds.\n",
      "[100]\tvalid_0's auc: 0.623435\tvalid_0's gini: 0.246876\n",
      "[200]\tvalid_0's auc: 0.625682\tvalid_0's gini: 0.251367\n",
      "[300]\tvalid_0's auc: 0.628977\tvalid_0's gini: 0.257955\n",
      "[400]\tvalid_0's auc: 0.63163\tvalid_0's gini: 0.26326\n",
      "[500]\tvalid_0's auc: 0.634395\tvalid_0's gini: 0.26879\n",
      "[600]\tvalid_0's auc: 0.636132\tvalid_0's gini: 0.272263\n",
      "[700]\tvalid_0's auc: 0.636965\tvalid_0's gini: 0.273929\n",
      "[800]\tvalid_0's auc: 0.637777\tvalid_0's gini: 0.275554\n",
      "[900]\tvalid_0's auc: 0.637989\tvalid_0's gini: 0.275978\n",
      "[1000]\tvalid_0's auc: 0.637822\tvalid_0's gini: 0.275644\n",
      "Early stopping, best iteration is:\n",
      "[910]\tvalid_0's auc: 0.638108\tvalid_0's gini: 0.276215\n"
     ]
    },
    {
     "data": {
      "text/html": [
       "<div>\n",
       "<style>\n",
       "    .dataframe thead tr:only-child th {\n",
       "        text-align: right;\n",
       "    }\n",
       "\n",
       "    .dataframe thead th {\n",
       "        text-align: left;\n",
       "    }\n",
       "\n",
       "    .dataframe tbody tr th {\n",
       "        vertical-align: top;\n",
       "    }\n",
       "</style>\n",
       "<table border=\"1\" class=\"dataframe\">\n",
       "  <thead>\n",
       "    <tr style=\"text-align: right;\">\n",
       "      <th></th>\n",
       "      <th>id</th>\n",
       "      <th>target</th>\n",
       "    </tr>\n",
       "  </thead>\n",
       "  <tbody>\n",
       "    <tr>\n",
       "      <th>595212</th>\n",
       "      <td>0</td>\n",
       "      <td>0.028299</td>\n",
       "    </tr>\n",
       "    <tr>\n",
       "      <th>595213</th>\n",
       "      <td>1</td>\n",
       "      <td>0.026260</td>\n",
       "    </tr>\n",
       "  </tbody>\n",
       "</table>\n",
       "</div>"
      ],
      "text/plain": [
       "        id    target\n",
       "595212   0  0.028299\n",
       "595213   1  0.026260"
      ]
     },
     "execution_count": 15,
     "metadata": {},
     "output_type": "execute_result"
    }
   ],
   "source": [
    "#col_to_drop = train.columns[train.columns.str.startswith('ps_calc_')]\n",
    "#train = train.drop(col_to_drop, axis=1)\n",
    "#test = test.drop(col_to_drop, axis=1)\n",
    "\n",
    "print('Changing dtypes...')\n",
    "for c in train.select_dtypes(include=['float64']).columns:\n",
    "    train[c]=train[c].astype(np.float32)\n",
    "    test[c]=test[c].astype(np.float32)\n",
    "    \n",
    "for c in train.select_dtypes(include=['int64']).columns[2:]:\n",
    "    train[c]=train[c].astype(np.int8)\n",
    "    test[c]=test[c].astype(np.int8)  \n",
    "\n",
    "print(train.shape, test.shape)\n",
    "\n",
    "# xgb\n",
    "params = {'eta': 0.02, 'max_depth': 4, 'subsample': 0.9, 'colsample_bytree': 0.9, \n",
    "          'objective': 'binary:logistic', 'eval_metric': 'auc', 'silent': True}\n",
    "\n",
    "X = train.drop(['id', 'target'], axis=1)\n",
    "features = X.columns\n",
    "X = X.values\n",
    "y = train['target'].values\n",
    "sub = test['id'].to_frame()\n",
    "sub['target'] = 0\n",
    "\n",
    "nrounds=2000\n",
    "kfold = 5\n",
    "skf = StratifiedKFold(n_splits=kfold, random_state=0)\n",
    "for i, (train_index, test_index) in enumerate(skf.split(X, y)):\n",
    "    print(' xgb kfold: {}  of  {} : '.format(i+1, kfold))\n",
    "    X_train, X_valid = X[train_index], X[test_index]\n",
    "    y_train, y_valid = y[train_index], y[test_index]\n",
    "    d_train = xgb.DMatrix(X_train, y_train) \n",
    "    d_valid = xgb.DMatrix(X_valid, y_valid) \n",
    "    watchlist = [(d_train, 'train'), (d_valid, 'valid')]\n",
    "    xgb_model = xgb.train(params, d_train, nrounds, watchlist, early_stopping_rounds=100, \n",
    "                          feval=gini_xgb, maximize=True, verbose_eval=100)\n",
    "    sub['target'] += xgb_model.predict(xgb.DMatrix(test[feats].values), \n",
    "                        ntree_limit=xgb_model.best_ntree_limit+50) / (2*kfold)\n",
    "gc.collect()\n",
    "sub.head(2)\n",
    "\n",
    "# lgb\n",
    "params = {'metric': 'auc', 'learning_rate' : 0.01, 'max_depth':10, 'max_bin':10,  'objective': 'binary', \n",
    "          'feature_fraction': 0.8,'bagging_fraction':0.9,'bagging_freq':10,  'min_data': 500}\n",
    "\n",
    "skf = StratifiedKFold(n_splits=kfold, random_state=1)\n",
    "for i, (train_index, test_index) in enumerate(skf.split(X, y)):\n",
    "    print(' lgb kfold: {}  of  {} : '.format(i+1, kfold))\n",
    "    X_train, X_eval = X[train_index], X[test_index]\n",
    "    y_train, y_eval = y[train_index], y[test_index]\n",
    "    lgb_model = lgb.train(params, lgb.Dataset(X_train, label=y_train), nrounds, \n",
    "                  lgb.Dataset(X_eval, label=y_eval), verbose_eval=100, \n",
    "                  feval=gini_lgb, early_stopping_rounds=100)\n",
    "    sub['target'] += lgb_model.predict(test[feats].values, \n",
    "                        num_iteration=lgb_model.best_iteration) / (2*kfold)\n",
    "    \n",
    "sub.to_csv('~/Downloads/porto/result_xgb_meta_lgb_2polynomial_onehot.csv', index=False, float_format='%.5f') \n",
    "gc.collect()\n",
    "sub.head(2)"
   ]
  },
  {
   "cell_type": "markdown",
   "metadata": {},
   "source": [
    "# Average"
   ]
  },
  {
   "cell_type": "code",
   "execution_count": 25,
   "metadata": {
    "collapsed": true
   },
   "outputs": [],
   "source": [
    "df1 = pd.read_csv('C:/Users/pedro.castanha/Downloads/porto/result_xgb_meta_lgb_meta_features_onehot.csv')\n",
    "df2 = pd.read_csv('C:/Users/pedro.castanha/Downloads/porto/result_xgb_meta_lgb_meta_features.csv')\n",
    "df3 = pd.read_csv('C:/Users/pedro.castanha/Downloads/porto/result_xgb_meta_lgb.csv')"
   ]
  },
  {
   "cell_type": "code",
   "execution_count": 20,
   "metadata": {
    "collapsed": true
   },
   "outputs": [],
   "source": [
    "df1['target'] = df1['target'] * 0.4\n",
    "df2['target'] = df2['target'] * 0.3\n",
    "df3['target'] = df3['target'] * 0.3"
   ]
  },
  {
   "cell_type": "code",
   "execution_count": 27,
   "metadata": {},
   "outputs": [
    {
     "data": {
      "text/html": [
       "<div>\n",
       "<style>\n",
       "    .dataframe thead tr:only-child th {\n",
       "        text-align: right;\n",
       "    }\n",
       "\n",
       "    .dataframe thead th {\n",
       "        text-align: left;\n",
       "    }\n",
       "\n",
       "    .dataframe tbody tr th {\n",
       "        vertical-align: top;\n",
       "    }\n",
       "</style>\n",
       "<table border=\"1\" class=\"dataframe\">\n",
       "  <thead>\n",
       "    <tr style=\"text-align: right;\">\n",
       "      <th></th>\n",
       "      <th>id</th>\n",
       "      <th>target_x</th>\n",
       "      <th>target_y</th>\n",
       "      <th>target_z</th>\n",
       "      <th>target</th>\n",
       "    </tr>\n",
       "  </thead>\n",
       "  <tbody>\n",
       "    <tr>\n",
       "      <th>0</th>\n",
       "      <td>0</td>\n",
       "      <td>0.02857</td>\n",
       "      <td>0.02567</td>\n",
       "      <td>0.02631</td>\n",
       "      <td>0.026850</td>\n",
       "    </tr>\n",
       "    <tr>\n",
       "      <th>1</th>\n",
       "      <td>1</td>\n",
       "      <td>0.02483</td>\n",
       "      <td>0.02570</td>\n",
       "      <td>0.02755</td>\n",
       "      <td>0.026027</td>\n",
       "    </tr>\n",
       "    <tr>\n",
       "      <th>2</th>\n",
       "      <td>2</td>\n",
       "      <td>0.02557</td>\n",
       "      <td>0.02580</td>\n",
       "      <td>0.02639</td>\n",
       "      <td>0.025920</td>\n",
       "    </tr>\n",
       "  </tbody>\n",
       "</table>\n",
       "</div>"
      ],
      "text/plain": [
       "   id  target_x  target_y  target_z    target\n",
       "0   0   0.02857   0.02567   0.02631  0.026850\n",
       "1   1   0.02483   0.02570   0.02755  0.026027\n",
       "2   2   0.02557   0.02580   0.02639  0.025920"
      ]
     },
     "execution_count": 27,
     "metadata": {},
     "output_type": "execute_result"
    }
   ],
   "source": [
    "m1 = pd.merge(df1, df2, on=['id'])\n",
    "m2 = pd.merge(m1, df3, on=['id'])\n",
    "\n",
    "m2['avg'] = m2[['target_x', 'target_y', 'target']].mean(axis=1)\n",
    "\n",
    "m2.rename(columns={'target': 'target_z', 'avg': 'target'}, inplace=True)\n",
    "m2.head(3)"
   ]
  },
  {
   "cell_type": "code",
   "execution_count": 28,
   "metadata": {
    "collapsed": true
   },
   "outputs": [],
   "source": [
    "m2[['id', 'target']].to_csv('~/Downloads/porto/result_avg_meta_onehot_base_features.csv', index=False, float_format='%.5f')"
   ]
  }
 ],
 "metadata": {
  "kernelspec": {
   "display_name": "Python 3",
   "language": "python",
   "name": "python3"
  },
  "language_info": {
   "codemirror_mode": {
    "name": "ipython",
    "version": 3
   },
   "file_extension": ".py",
   "mimetype": "text/x-python",
   "name": "python",
   "nbconvert_exporter": "python",
   "pygments_lexer": "ipython3",
   "version": "3.6.1"
  }
 },
 "nbformat": 4,
 "nbformat_minor": 2
}
